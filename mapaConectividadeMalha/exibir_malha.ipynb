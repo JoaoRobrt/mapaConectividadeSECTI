{
 "cells": [
  {
   "metadata": {
    "ExecuteTime": {
     "end_time": "2024-09-19T23:43:46.099852Z",
     "start_time": "2024-09-19T23:43:46.004827Z"
    }
   },
   "cell_type": "code",
   "source": [
    "import plotly.express as px\n",
    "import geopandas as gpd\n",
    "import pandas as pd\n",
    "from idMunicipios import obter_malha\n",
    "from shapely.geometry import shape\n",
    "from typing import Dict, List\n",
    "\n",
    "def obter_malhas_para_municipios(codigos_municipio: List[str]) -> List[Dict]:\n",
    "    malhas = []\n",
    "    for codigo in codigos_municipio:\n",
    "        malha = obter_malha(codigo)\n",
    "        malhas.append(malha)\n",
    "    return malhas\n",
    "\n",
    "def criar_gdf_malhas(malhas: List[Dict]) -> gpd.GeoDataFrame:\n",
    "    features = [feature for malha in malhas if malha for feature in malha.get('features', [])]\n",
    "    geometries = [shape(feature['geometry']) for feature in features]\n",
    "    properties = [feature['properties'] for feature in features]\n",
    "\n",
    "    gdf = gpd.GeoDataFrame(properties, geometry=geometries, crs='epsg:4326')\n",
    "    return gdf\n",
    "\n",
    "df_municipios = pd.read_csv('parahybaCities.csv', engine='python')\n",
    "print(\"Colunas no DataFrame:\", df_municipios.columns)\n",
    "\n",
    "df_municipios['CD_MUN'] = df_municipios['CD_MUN'].astype(str)\n",
    "\n",
    "codigos_municipio = df_municipios['CD_MUN'].tolist()\n",
    "malhas = obter_malhas_para_municipios(codigos_municipio)\n",
    "gdf = criar_gdf_malhas(malhas)\n",
    "\n",
    "\n",
    "df_municipios = df_municipios.drop(columns=['Tecnologia', 'Tipo de compromisso', 'Compromisso', \n",
    "                                             'Origem compromisso', 'Operadora com compromisso', \n",
    "                                             'Status compromisso', 'Prazo compromisso', \n",
    "                                             'Operadora'], axis=1)\n",
    "\n",
    "df_municipios = df_municipios.drop_duplicates()\n",
    "df_municipios.rename(columns={'Código IBGE': 'CD_MUN'}, inplace=True)\n",
    "df_municipios['% moradores cobertos'] = df_municipios['% moradores cobertos'].str.replace('%', '').str.replace(',', '.').str.strip()\n",
    "df_municipios['% moradores cobertos'] = pd.to_numeric(df_municipios['% moradores cobertos'], errors='coerce')\n",
    "df_municipios['% moradores cobertos'] = df_municipios['% moradores cobertos'].fillna(0)\n",
    "\n",
    "print(\"Colunas após renomear:\", df_municipios.columns)\n",
    "\n",
    "gdf['CD_MUN'] = df_municipios['CD_MUN'].astype(int)\n",
    "gdf = gdf.merge(df_municipios, on='CD_MUN', how='left')\n",
    "\n",
    "print(\"Colunas após merge:\", gdf.columns)\n",
    "print(gdf.head())\n",
    "\n",
    "grafico = px.choropleth_mapbox(\n",
    "    gdf,\n",
    "    geojson=gdf.geometry.__geo_interface__,  \n",
    "    locations=gdf.index,  \n",
    "    featureidkey=\"properties.CD_MUN\",  \n",
    "    color=\"% moradores cobertos\", \n",
    "    mapbox_style=\"carto-positron\",\n",
    "    zoom=6,\n",
    "    center={\"lat\": -7.239, \"lon\": -35.881},\n",
    "    opacity=0.5,\n",
    "    color_continuous_scale=\"Viridis\"\n",
    ")\n",
    "\n",
    "grafico.update_layout(margin={\"t\": 0, \"l\": 0, \"r\": 0, \"b\": 0})\n",
    "grafico.show()\n"
   ],
   "id": "initial_id",
   "outputs": [
    {
     "name": "stdout",
     "output_type": "stream",
     "text": [
      "Colunas no DataFrame: Index(['Código IBGE', 'Município', 'UF', 'Operadora', 'Tecnologia',\n",
      "       '% área coberta', '% moradores cobertos', '% domicílios cobertos',\n",
      "       'Área km2', 'Moradores', 'Domicílios', 'Tipo de compromisso',\n",
      "       'Compromisso', 'Origem compromisso', 'Operadora com compromisso',\n",
      "       'Status compromisso', 'Prazo compromisso'],\n",
      "      dtype='object')\n"
     ]
    },
    {
     "ename": "KeyError",
     "evalue": "'CD_MUN'",
     "output_type": "error",
     "traceback": [
      "\u001B[1;31m---------------------------------------------------------------------------\u001B[0m",
      "\u001B[1;31mKeyError\u001B[0m                                  Traceback (most recent call last)",
      "File \u001B[1;32m~\\OneDrive\\Workspace\\projetoIntegrador\\mapaConectividadeSECTI\\venv\\Lib\\site-packages\\pandas\\core\\indexes\\base.py:3805\u001B[0m, in \u001B[0;36mIndex.get_loc\u001B[1;34m(self, key)\u001B[0m\n\u001B[0;32m   3804\u001B[0m \u001B[38;5;28;01mtry\u001B[39;00m:\n\u001B[1;32m-> 3805\u001B[0m     \u001B[38;5;28;01mreturn\u001B[39;00m \u001B[38;5;28;43mself\u001B[39;49m\u001B[38;5;241;43m.\u001B[39;49m\u001B[43m_engine\u001B[49m\u001B[38;5;241;43m.\u001B[39;49m\u001B[43mget_loc\u001B[49m\u001B[43m(\u001B[49m\u001B[43mcasted_key\u001B[49m\u001B[43m)\u001B[49m\n\u001B[0;32m   3806\u001B[0m \u001B[38;5;28;01mexcept\u001B[39;00m \u001B[38;5;167;01mKeyError\u001B[39;00m \u001B[38;5;28;01mas\u001B[39;00m err:\n",
      "File \u001B[1;32mindex.pyx:167\u001B[0m, in \u001B[0;36mpandas._libs.index.IndexEngine.get_loc\u001B[1;34m()\u001B[0m\n",
      "File \u001B[1;32mindex.pyx:196\u001B[0m, in \u001B[0;36mpandas._libs.index.IndexEngine.get_loc\u001B[1;34m()\u001B[0m\n",
      "File \u001B[1;32mpandas\\\\_libs\\\\hashtable_class_helper.pxi:7081\u001B[0m, in \u001B[0;36mpandas._libs.hashtable.PyObjectHashTable.get_item\u001B[1;34m()\u001B[0m\n",
      "File \u001B[1;32mpandas\\\\_libs\\\\hashtable_class_helper.pxi:7089\u001B[0m, in \u001B[0;36mpandas._libs.hashtable.PyObjectHashTable.get_item\u001B[1;34m()\u001B[0m\n",
      "\u001B[1;31mKeyError\u001B[0m: 'CD_MUN'",
      "\nThe above exception was the direct cause of the following exception:\n",
      "\u001B[1;31mKeyError\u001B[0m                                  Traceback (most recent call last)",
      "Cell \u001B[1;32mIn[7], line 27\u001B[0m\n\u001B[0;32m     23\u001B[0m df_municipios \u001B[38;5;241m=\u001B[39m pd\u001B[38;5;241m.\u001B[39mread_csv(\u001B[38;5;124m'\u001B[39m\u001B[38;5;124mparahybaCities.csv\u001B[39m\u001B[38;5;124m'\u001B[39m, engine\u001B[38;5;241m=\u001B[39m\u001B[38;5;124m'\u001B[39m\u001B[38;5;124mpython\u001B[39m\u001B[38;5;124m'\u001B[39m)\n\u001B[0;32m     24\u001B[0m \u001B[38;5;28mprint\u001B[39m(\u001B[38;5;124m\"\u001B[39m\u001B[38;5;124mColunas no DataFrame:\u001B[39m\u001B[38;5;124m\"\u001B[39m, df_municipios\u001B[38;5;241m.\u001B[39mcolumns)\n\u001B[1;32m---> 27\u001B[0m codigos_municipio \u001B[38;5;241m=\u001B[39m \u001B[43mdf_municipios\u001B[49m\u001B[43m[\u001B[49m\u001B[38;5;124;43m'\u001B[39;49m\u001B[38;5;124;43mCD_MUN\u001B[39;49m\u001B[38;5;124;43m'\u001B[39;49m\u001B[43m]\u001B[49m\u001B[38;5;241m.\u001B[39mtolist()\n\u001B[0;32m     28\u001B[0m malhas \u001B[38;5;241m=\u001B[39m obter_malhas_para_municipios(codigos_municipio)\n\u001B[0;32m     29\u001B[0m gdf \u001B[38;5;241m=\u001B[39m criar_gdf_malhas(malhas)\n",
      "File \u001B[1;32m~\\OneDrive\\Workspace\\projetoIntegrador\\mapaConectividadeSECTI\\venv\\Lib\\site-packages\\pandas\\core\\frame.py:4102\u001B[0m, in \u001B[0;36mDataFrame.__getitem__\u001B[1;34m(self, key)\u001B[0m\n\u001B[0;32m   4100\u001B[0m \u001B[38;5;28;01mif\u001B[39;00m \u001B[38;5;28mself\u001B[39m\u001B[38;5;241m.\u001B[39mcolumns\u001B[38;5;241m.\u001B[39mnlevels \u001B[38;5;241m>\u001B[39m \u001B[38;5;241m1\u001B[39m:\n\u001B[0;32m   4101\u001B[0m     \u001B[38;5;28;01mreturn\u001B[39;00m \u001B[38;5;28mself\u001B[39m\u001B[38;5;241m.\u001B[39m_getitem_multilevel(key)\n\u001B[1;32m-> 4102\u001B[0m indexer \u001B[38;5;241m=\u001B[39m \u001B[38;5;28;43mself\u001B[39;49m\u001B[38;5;241;43m.\u001B[39;49m\u001B[43mcolumns\u001B[49m\u001B[38;5;241;43m.\u001B[39;49m\u001B[43mget_loc\u001B[49m\u001B[43m(\u001B[49m\u001B[43mkey\u001B[49m\u001B[43m)\u001B[49m\n\u001B[0;32m   4103\u001B[0m \u001B[38;5;28;01mif\u001B[39;00m is_integer(indexer):\n\u001B[0;32m   4104\u001B[0m     indexer \u001B[38;5;241m=\u001B[39m [indexer]\n",
      "File \u001B[1;32m~\\OneDrive\\Workspace\\projetoIntegrador\\mapaConectividadeSECTI\\venv\\Lib\\site-packages\\pandas\\core\\indexes\\base.py:3812\u001B[0m, in \u001B[0;36mIndex.get_loc\u001B[1;34m(self, key)\u001B[0m\n\u001B[0;32m   3807\u001B[0m     \u001B[38;5;28;01mif\u001B[39;00m \u001B[38;5;28misinstance\u001B[39m(casted_key, \u001B[38;5;28mslice\u001B[39m) \u001B[38;5;129;01mor\u001B[39;00m (\n\u001B[0;32m   3808\u001B[0m         \u001B[38;5;28misinstance\u001B[39m(casted_key, abc\u001B[38;5;241m.\u001B[39mIterable)\n\u001B[0;32m   3809\u001B[0m         \u001B[38;5;129;01mand\u001B[39;00m \u001B[38;5;28many\u001B[39m(\u001B[38;5;28misinstance\u001B[39m(x, \u001B[38;5;28mslice\u001B[39m) \u001B[38;5;28;01mfor\u001B[39;00m x \u001B[38;5;129;01min\u001B[39;00m casted_key)\n\u001B[0;32m   3810\u001B[0m     ):\n\u001B[0;32m   3811\u001B[0m         \u001B[38;5;28;01mraise\u001B[39;00m InvalidIndexError(key)\n\u001B[1;32m-> 3812\u001B[0m     \u001B[38;5;28;01mraise\u001B[39;00m \u001B[38;5;167;01mKeyError\u001B[39;00m(key) \u001B[38;5;28;01mfrom\u001B[39;00m \u001B[38;5;21;01merr\u001B[39;00m\n\u001B[0;32m   3813\u001B[0m \u001B[38;5;28;01mexcept\u001B[39;00m \u001B[38;5;167;01mTypeError\u001B[39;00m:\n\u001B[0;32m   3814\u001B[0m     \u001B[38;5;66;03m# If we have a listlike key, _check_indexing_error will raise\u001B[39;00m\n\u001B[0;32m   3815\u001B[0m     \u001B[38;5;66;03m#  InvalidIndexError. Otherwise we fall through and re-raise\u001B[39;00m\n\u001B[0;32m   3816\u001B[0m     \u001B[38;5;66;03m#  the TypeError.\u001B[39;00m\n\u001B[0;32m   3817\u001B[0m     \u001B[38;5;28mself\u001B[39m\u001B[38;5;241m.\u001B[39m_check_indexing_error(key)\n",
      "\u001B[1;31mKeyError\u001B[0m: 'CD_MUN'"
     ]
    }
   ],
   "execution_count": 7
  },
  {
   "metadata": {},
   "cell_type": "code",
   "source": "",
   "id": "a2d153e5b79cec08",
   "outputs": [],
   "execution_count": null
  }
 ],
 "metadata": {
  "kernelspec": {
   "display_name": "Python 3",
   "language": "python",
   "name": "python3"
  },
  "language_info": {
   "codemirror_mode": {
    "name": "ipython",
    "version": 2
   },
   "file_extension": ".py",
   "mimetype": "text/x-python",
   "name": "python",
   "nbconvert_exporter": "python",
   "pygments_lexer": "ipython2",
   "version": "2.7.6"
  }
 },
 "nbformat": 4,
 "nbformat_minor": 5
}
