{
 "cells": [
  {
   "cell_type": "code",
   "metadata": {
    "ExecuteTime": {
     "end_time": "2024-09-19T18:11:24.691695Z",
     "start_time": "2024-09-19T18:08:48.072604Z"
    }
   },
   "source": [
    "import pandas as pd\n",
    "from coordenadas import obter_coordenadas, uf\n",
    "import sqlite3\n",
    "from sqlalchemy import create_engine\n",
    "\n",
    "\n",
    "df_municipios = pd.read_csv('parahybaCities.csv', engine = 'python')\n",
    "\n",
    "df_municipios = df_municipios.drop(columns=['Tecnologia', 'Tipo de compromisso', 'Compromisso', 'Origem compromisso', 'Operadora com compromisso', 'Status compromisso',\n",
    "                               'Prazo compromisso', 'Operadora'], axis= 1)\n",
    "\n",
    "df_municipios = df_municipios.drop_duplicates()\n",
    "\n",
    "df_municipios['Latitude'] = ''\n",
    "df_municipios['Longitude'] = ''\n",
    "\n",
    "\n",
    "for i, municipio in enumerate (df_municipios['Município']):\n",
    "    lat, lon = obter_coordenadas(municipio, uf)\n",
    "    df_municipios.at[i, 'Latitude'] = lat\n",
    "    df_municipios.at[i, 'Longitude'] = lon\n",
    "\n",
    "\n",
    "df_municipios['% moradores cobertos'] = df_municipios['% moradores cobertos'].str.replace('%', '').str.replace(',', '.').str.strip()\n",
    "df_municipios['% moradores cobertos'] = pd.to_numeric(df_municipios['% moradores cobertos'], errors='coerce')\n",
    "df_municipios['% moradores cobertos'] = df_municipios['% moradores cobertos'].fillna(0)\n",
    "\n",
    "df_municipios['Longitude'] = pd.to_numeric(df_municipios['Longitude'], errors='coerce')\n",
    "df_municipios['Latitude'] = pd.to_numeric(df_municipios['Latitude'], errors='coerce')\n",
    "\n",
    "\n",
    "engine = create_engine('sqlite:///municipios_PB.db')\n",
    "with engine.connect() as conn:\n",
    "    df_municipios.to_sql('municipios', conn, if_exists='replace', index=False)\n",
    "\n",
    "\n",
    "df_municipios = df_municipios.dropna(how='any')\n",
    "\n",
    "display(df_municipios)"
   ],
   "outputs": [
    {
     "data": {
      "text/plain": [
       "     Código IBGE        Município  UF % área coberta  % moradores cobertos  \\\n",
       "0      2500106.0      Água Branca  PB          43,22                 63.36   \n",
       "2      2500205.0           Aguiar  PB          39,33                 64.71   \n",
       "5      2500304.0    Alagoa Grande  PB          67,75                 93.55   \n",
       "7      2500403.0      Alagoa Nova  PB          97,82                 99.23   \n",
       "10     2500502.0        Alagoinha  PB          98,21                 99.57   \n",
       "..           ...              ...  ..            ...                   ...   \n",
       "209    2504306.0  Catolé do Rocha  PB          50,74                 86.14   \n",
       "213    2504355.0         Caturité  PB          84,18                 94.15   \n",
       "217    2504405.0        Conceição  PB          36,76                 73.66   \n",
       "219    2504504.0          Condado  PB          66,95                 89.74   \n",
       "222    2504603.0            Conde  PB         100,00                100.00   \n",
       "\n",
       "    % domicílios cobertos     Área km2  Moradores  Domicílios  Latitude  \\\n",
       "0                   65,47   236,609529     9446.0      2559.0 -7.515105   \n",
       "2                   66,78  344,7094987     5528.0      1659.0 -7.041521   \n",
       "5                   94,05  320,5623905    28460.0      8012.0 -7.741342   \n",
       "7                   99,29  122,2553871    19678.0      5434.0 -7.430425   \n",
       "10                  99,54  96,97979893    13533.0      3686.0 -6.785960   \n",
       "..                    ...          ...        ...         ...       ...   \n",
       "209                 86,46  552,1079469    28648.0      8227.0 -6.767694   \n",
       "213                 94,38  118,0824652     4543.0      1329.0 -7.206294   \n",
       "217                 75,68  579,4368234    18256.0      5112.0 -6.579042   \n",
       "219                 90,56  280,9152421     6524.0      1891.0 -7.696494   \n",
       "222                100,00  172,9497791    21295.0      5781.0 -8.075514   \n",
       "\n",
       "     Longitude  \n",
       "0   -37.639403  \n",
       "2   -35.628532  \n",
       "5   -36.065357  \n",
       "7   -34.910610  \n",
       "10  -38.083135  \n",
       "..         ...  \n",
       "209 -36.245508  \n",
       "213 -36.824499  \n",
       "217 -38.596986  \n",
       "219 -35.666623  \n",
       "222 -37.098513  \n",
       "\n",
       "[62 rows x 11 columns]"
      ],
      "text/html": [
       "<div>\n",
       "<style scoped>\n",
       "    .dataframe tbody tr th:only-of-type {\n",
       "        vertical-align: middle;\n",
       "    }\n",
       "\n",
       "    .dataframe tbody tr th {\n",
       "        vertical-align: top;\n",
       "    }\n",
       "\n",
       "    .dataframe thead th {\n",
       "        text-align: right;\n",
       "    }\n",
       "</style>\n",
       "<table border=\"1\" class=\"dataframe\">\n",
       "  <thead>\n",
       "    <tr style=\"text-align: right;\">\n",
       "      <th></th>\n",
       "      <th>Código IBGE</th>\n",
       "      <th>Município</th>\n",
       "      <th>UF</th>\n",
       "      <th>% área coberta</th>\n",
       "      <th>% moradores cobertos</th>\n",
       "      <th>% domicílios cobertos</th>\n",
       "      <th>Área km2</th>\n",
       "      <th>Moradores</th>\n",
       "      <th>Domicílios</th>\n",
       "      <th>Latitude</th>\n",
       "      <th>Longitude</th>\n",
       "    </tr>\n",
       "  </thead>\n",
       "  <tbody>\n",
       "    <tr>\n",
       "      <th>0</th>\n",
       "      <td>2500106.0</td>\n",
       "      <td>Água Branca</td>\n",
       "      <td>PB</td>\n",
       "      <td>43,22</td>\n",
       "      <td>63.36</td>\n",
       "      <td>65,47</td>\n",
       "      <td>236,609529</td>\n",
       "      <td>9446.0</td>\n",
       "      <td>2559.0</td>\n",
       "      <td>-7.515105</td>\n",
       "      <td>-37.639403</td>\n",
       "    </tr>\n",
       "    <tr>\n",
       "      <th>2</th>\n",
       "      <td>2500205.0</td>\n",
       "      <td>Aguiar</td>\n",
       "      <td>PB</td>\n",
       "      <td>39,33</td>\n",
       "      <td>64.71</td>\n",
       "      <td>66,78</td>\n",
       "      <td>344,7094987</td>\n",
       "      <td>5528.0</td>\n",
       "      <td>1659.0</td>\n",
       "      <td>-7.041521</td>\n",
       "      <td>-35.628532</td>\n",
       "    </tr>\n",
       "    <tr>\n",
       "      <th>5</th>\n",
       "      <td>2500304.0</td>\n",
       "      <td>Alagoa Grande</td>\n",
       "      <td>PB</td>\n",
       "      <td>67,75</td>\n",
       "      <td>93.55</td>\n",
       "      <td>94,05</td>\n",
       "      <td>320,5623905</td>\n",
       "      <td>28460.0</td>\n",
       "      <td>8012.0</td>\n",
       "      <td>-7.741342</td>\n",
       "      <td>-36.065357</td>\n",
       "    </tr>\n",
       "    <tr>\n",
       "      <th>7</th>\n",
       "      <td>2500403.0</td>\n",
       "      <td>Alagoa Nova</td>\n",
       "      <td>PB</td>\n",
       "      <td>97,82</td>\n",
       "      <td>99.23</td>\n",
       "      <td>99,29</td>\n",
       "      <td>122,2553871</td>\n",
       "      <td>19678.0</td>\n",
       "      <td>5434.0</td>\n",
       "      <td>-7.430425</td>\n",
       "      <td>-34.910610</td>\n",
       "    </tr>\n",
       "    <tr>\n",
       "      <th>10</th>\n",
       "      <td>2500502.0</td>\n",
       "      <td>Alagoinha</td>\n",
       "      <td>PB</td>\n",
       "      <td>98,21</td>\n",
       "      <td>99.57</td>\n",
       "      <td>99,54</td>\n",
       "      <td>96,97979893</td>\n",
       "      <td>13533.0</td>\n",
       "      <td>3686.0</td>\n",
       "      <td>-6.785960</td>\n",
       "      <td>-38.083135</td>\n",
       "    </tr>\n",
       "    <tr>\n",
       "      <th>...</th>\n",
       "      <td>...</td>\n",
       "      <td>...</td>\n",
       "      <td>...</td>\n",
       "      <td>...</td>\n",
       "      <td>...</td>\n",
       "      <td>...</td>\n",
       "      <td>...</td>\n",
       "      <td>...</td>\n",
       "      <td>...</td>\n",
       "      <td>...</td>\n",
       "      <td>...</td>\n",
       "    </tr>\n",
       "    <tr>\n",
       "      <th>209</th>\n",
       "      <td>2504306.0</td>\n",
       "      <td>Catolé do Rocha</td>\n",
       "      <td>PB</td>\n",
       "      <td>50,74</td>\n",
       "      <td>86.14</td>\n",
       "      <td>86,46</td>\n",
       "      <td>552,1079469</td>\n",
       "      <td>28648.0</td>\n",
       "      <td>8227.0</td>\n",
       "      <td>-6.767694</td>\n",
       "      <td>-36.245508</td>\n",
       "    </tr>\n",
       "    <tr>\n",
       "      <th>213</th>\n",
       "      <td>2504355.0</td>\n",
       "      <td>Caturité</td>\n",
       "      <td>PB</td>\n",
       "      <td>84,18</td>\n",
       "      <td>94.15</td>\n",
       "      <td>94,38</td>\n",
       "      <td>118,0824652</td>\n",
       "      <td>4543.0</td>\n",
       "      <td>1329.0</td>\n",
       "      <td>-7.206294</td>\n",
       "      <td>-36.824499</td>\n",
       "    </tr>\n",
       "    <tr>\n",
       "      <th>217</th>\n",
       "      <td>2504405.0</td>\n",
       "      <td>Conceição</td>\n",
       "      <td>PB</td>\n",
       "      <td>36,76</td>\n",
       "      <td>73.66</td>\n",
       "      <td>75,68</td>\n",
       "      <td>579,4368234</td>\n",
       "      <td>18256.0</td>\n",
       "      <td>5112.0</td>\n",
       "      <td>-6.579042</td>\n",
       "      <td>-38.596986</td>\n",
       "    </tr>\n",
       "    <tr>\n",
       "      <th>219</th>\n",
       "      <td>2504504.0</td>\n",
       "      <td>Condado</td>\n",
       "      <td>PB</td>\n",
       "      <td>66,95</td>\n",
       "      <td>89.74</td>\n",
       "      <td>90,56</td>\n",
       "      <td>280,9152421</td>\n",
       "      <td>6524.0</td>\n",
       "      <td>1891.0</td>\n",
       "      <td>-7.696494</td>\n",
       "      <td>-35.666623</td>\n",
       "    </tr>\n",
       "    <tr>\n",
       "      <th>222</th>\n",
       "      <td>2504603.0</td>\n",
       "      <td>Conde</td>\n",
       "      <td>PB</td>\n",
       "      <td>100,00</td>\n",
       "      <td>100.00</td>\n",
       "      <td>100,00</td>\n",
       "      <td>172,9497791</td>\n",
       "      <td>21295.0</td>\n",
       "      <td>5781.0</td>\n",
       "      <td>-8.075514</td>\n",
       "      <td>-37.098513</td>\n",
       "    </tr>\n",
       "  </tbody>\n",
       "</table>\n",
       "<p>62 rows × 11 columns</p>\n",
       "</div>"
      ]
     },
     "metadata": {},
     "output_type": "display_data"
    }
   ],
   "execution_count": 18
  },
  {
   "cell_type": "code",
   "metadata": {
    "ExecuteTime": {
     "end_time": "2024-09-19T18:13:09.093215Z",
     "start_time": "2024-09-19T18:13:09.062267Z"
    }
   },
   "source": [
    "import plotly.express as px\n",
    "\n",
    "\n",
    "grafico = px.density_mapbox(df_municipios, lon=\"Longitude\", lat=\"Latitude\", z=\"% moradores cobertos\", mapbox_style=\"open-street-map\", zoom = 7, radius=30, height=600)\n",
    "grafico.update_layout(margin={\"r\": 0, \"t\": 0, \"l\": 0, \"b\": 0})\n",
    "grafico.show()"
   ],
   "outputs": [
    {
     "data": {
      "application/vnd.plotly.v1+json": {
       "data": [
        {
         "coloraxis": "coloraxis",
         "hovertemplate": "% moradores cobertos=%{z}<br>Latitude=%{lat}<br>Longitude=%{lon}<extra></extra>",
         "lat": [
          -7.5151046,
          -7.0415212,
          -7.7413424,
          -7.4304246,
          -6.7859598,
          -6.9680243,
          -7.073396,
          -7.5230865,
          -7.7528088,
          -6.6967586,
          -7.4202462,
          -7.3143332,
          -6.8066718,
          -6.9259193,
          -6.6425101,
          -6.6146866,
          -7.885031,
          -7.0395225,
          -7.4199652,
          -7.2600359,
          -7.0175897,
          -6.8647974,
          -6.912922,
          -7.2889695,
          -6.6032239,
          -7.3577473,
          -6.8283007,
          -6.6123046,
          -7.1215981,
          -6.991929,
          -6.6808819,
          -7.2582944,
          -7.7060905,
          -7.1812758,
          -7.1219554,
          -7.264629,
          -7.088656,
          -7.0309389,
          -6.9156749,
          -7.4782417,
          -7.2289861,
          -7.1364483,
          -6.7809356,
          -6.4050165,
          -7.6948841,
          -7.3640404,
          -6.5408387,
          -6.4355877,
          -7.3856858,
          -7.128465,
          -6.4859187,
          -6.8174316,
          -6.7758264,
          -7.2504094,
          -6.933337,
          -7.2146596,
          -7.1442879,
          -6.767694,
          -7.206294,
          -6.5790424,
          -7.696494,
          -8.075514
         ],
         "lon": [
          -37.6394034,
          -35.6285322,
          -36.0653565,
          -34.9106103,
          -38.0831353,
          -35.6994783,
          -36.7274003,
          -35.9988518,
          -36.3170996,
          -35.5369626,
          -38.2156782,
          -38.5146677,
          -35.5990191,
          -38.6742159,
          -35.7929304,
          -35.4681434,
          -36.824191,
          -38.3432281,
          -36.0207132,
          -34.9053524,
          -37.9465062,
          -36.3525993,
          -35.250219,
          -37.0880761,
          -35.627146,
          -35.7839735,
          -35.244782,
          -35.2919016,
          -34.882028,
          -36.7137661,
          -35.363768423421334,
          -37.4269768,
          -38.1531251,
          -35.7330712,
          -35.7713426,
          -37.3383363,
          -35.9577367,
          -35.4646079,
          -38.3251082,
          -38.0404379,
          -37.7490068,
          -37.0474285,
          -35.4967135,
          -38.4964786,
          -37.0830343,
          -35.9016644,
          -35.6608948,
          -37.6560108,
          -37.987565,
          -34.9846186,
          -37.4469328,
          -37.942643,
          -36.797916,
          -35.2094114,
          -36.400864,
          -38.3719684,
          -35.2357401,
          -36.2455081,
          -36.824499,
          -38.5969865,
          -35.6666231,
          -37.0985126
         ],
         "name": "",
         "radius": 30,
         "subplot": "mapbox",
         "z": [
          63.36,
          64.71,
          93.55,
          99.23,
          99.57,
          68.08,
          77.5,
          99.95,
          68.29,
          91.01,
          82.12,
          88.22,
          91.95,
          87.72,
          92.39,
          77.4,
          99.99,
          71.31,
          99.39,
          94.74,
          93.17,
          96.53,
          46.48,
          75.61,
          55.22,
          100.0,
          100.0,
          84.38,
          97.25,
          98.35,
          77.45,
          96.5,
          82.29,
          87.89,
          87.33,
          88.11,
          100.0,
          91.08,
          99.69,
          100.0,
          63.75,
          100.0,
          91.06,
          93.76,
          86.28,
          52.84,
          99.19,
          86.24,
          74.44,
          100.0,
          63.1,
          98.97,
          100.0,
          64.72,
          96.49,
          88.7,
          72.15,
          86.14,
          94.15,
          73.66,
          89.74,
          100.0
         ],
         "type": "densitymapbox"
        }
       ],
       "layout": {
        "template": {
         "data": {
          "histogram2dcontour": [
           {
            "type": "histogram2dcontour",
            "colorbar": {
             "outlinewidth": 0,
             "ticks": ""
            },
            "colorscale": [
             [
              0.0,
              "#0d0887"
             ],
             [
              0.1111111111111111,
              "#46039f"
             ],
             [
              0.2222222222222222,
              "#7201a8"
             ],
             [
              0.3333333333333333,
              "#9c179e"
             ],
             [
              0.4444444444444444,
              "#bd3786"
             ],
             [
              0.5555555555555556,
              "#d8576b"
             ],
             [
              0.6666666666666666,
              "#ed7953"
             ],
             [
              0.7777777777777778,
              "#fb9f3a"
             ],
             [
              0.8888888888888888,
              "#fdca26"
             ],
             [
              1.0,
              "#f0f921"
             ]
            ]
           }
          ],
          "choropleth": [
           {
            "type": "choropleth",
            "colorbar": {
             "outlinewidth": 0,
             "ticks": ""
            }
           }
          ],
          "histogram2d": [
           {
            "type": "histogram2d",
            "colorbar": {
             "outlinewidth": 0,
             "ticks": ""
            },
            "colorscale": [
             [
              0.0,
              "#0d0887"
             ],
             [
              0.1111111111111111,
              "#46039f"
             ],
             [
              0.2222222222222222,
              "#7201a8"
             ],
             [
              0.3333333333333333,
              "#9c179e"
             ],
             [
              0.4444444444444444,
              "#bd3786"
             ],
             [
              0.5555555555555556,
              "#d8576b"
             ],
             [
              0.6666666666666666,
              "#ed7953"
             ],
             [
              0.7777777777777778,
              "#fb9f3a"
             ],
             [
              0.8888888888888888,
              "#fdca26"
             ],
             [
              1.0,
              "#f0f921"
             ]
            ]
           }
          ],
          "heatmap": [
           {
            "type": "heatmap",
            "colorbar": {
             "outlinewidth": 0,
             "ticks": ""
            },
            "colorscale": [
             [
              0.0,
              "#0d0887"
             ],
             [
              0.1111111111111111,
              "#46039f"
             ],
             [
              0.2222222222222222,
              "#7201a8"
             ],
             [
              0.3333333333333333,
              "#9c179e"
             ],
             [
              0.4444444444444444,
              "#bd3786"
             ],
             [
              0.5555555555555556,
              "#d8576b"
             ],
             [
              0.6666666666666666,
              "#ed7953"
             ],
             [
              0.7777777777777778,
              "#fb9f3a"
             ],
             [
              0.8888888888888888,
              "#fdca26"
             ],
             [
              1.0,
              "#f0f921"
             ]
            ]
           }
          ],
          "heatmapgl": [
           {
            "type": "heatmapgl",
            "colorbar": {
             "outlinewidth": 0,
             "ticks": ""
            },
            "colorscale": [
             [
              0.0,
              "#0d0887"
             ],
             [
              0.1111111111111111,
              "#46039f"
             ],
             [
              0.2222222222222222,
              "#7201a8"
             ],
             [
              0.3333333333333333,
              "#9c179e"
             ],
             [
              0.4444444444444444,
              "#bd3786"
             ],
             [
              0.5555555555555556,
              "#d8576b"
             ],
             [
              0.6666666666666666,
              "#ed7953"
             ],
             [
              0.7777777777777778,
              "#fb9f3a"
             ],
             [
              0.8888888888888888,
              "#fdca26"
             ],
             [
              1.0,
              "#f0f921"
             ]
            ]
           }
          ],
          "contourcarpet": [
           {
            "type": "contourcarpet",
            "colorbar": {
             "outlinewidth": 0,
             "ticks": ""
            }
           }
          ],
          "contour": [
           {
            "type": "contour",
            "colorbar": {
             "outlinewidth": 0,
             "ticks": ""
            },
            "colorscale": [
             [
              0.0,
              "#0d0887"
             ],
             [
              0.1111111111111111,
              "#46039f"
             ],
             [
              0.2222222222222222,
              "#7201a8"
             ],
             [
              0.3333333333333333,
              "#9c179e"
             ],
             [
              0.4444444444444444,
              "#bd3786"
             ],
             [
              0.5555555555555556,
              "#d8576b"
             ],
             [
              0.6666666666666666,
              "#ed7953"
             ],
             [
              0.7777777777777778,
              "#fb9f3a"
             ],
             [
              0.8888888888888888,
              "#fdca26"
             ],
             [
              1.0,
              "#f0f921"
             ]
            ]
           }
          ],
          "surface": [
           {
            "type": "surface",
            "colorbar": {
             "outlinewidth": 0,
             "ticks": ""
            },
            "colorscale": [
             [
              0.0,
              "#0d0887"
             ],
             [
              0.1111111111111111,
              "#46039f"
             ],
             [
              0.2222222222222222,
              "#7201a8"
             ],
             [
              0.3333333333333333,
              "#9c179e"
             ],
             [
              0.4444444444444444,
              "#bd3786"
             ],
             [
              0.5555555555555556,
              "#d8576b"
             ],
             [
              0.6666666666666666,
              "#ed7953"
             ],
             [
              0.7777777777777778,
              "#fb9f3a"
             ],
             [
              0.8888888888888888,
              "#fdca26"
             ],
             [
              1.0,
              "#f0f921"
             ]
            ]
           }
          ],
          "mesh3d": [
           {
            "type": "mesh3d",
            "colorbar": {
             "outlinewidth": 0,
             "ticks": ""
            }
           }
          ],
          "scatter": [
           {
            "marker": {
             "line": {
              "color": "#283442"
             }
            },
            "type": "scatter"
           }
          ],
          "parcoords": [
           {
            "type": "parcoords",
            "line": {
             "colorbar": {
              "outlinewidth": 0,
              "ticks": ""
             }
            }
           }
          ],
          "scatterpolargl": [
           {
            "type": "scatterpolargl",
            "marker": {
             "colorbar": {
              "outlinewidth": 0,
              "ticks": ""
             }
            }
           }
          ],
          "bar": [
           {
            "error_x": {
             "color": "#f2f5fa"
            },
            "error_y": {
             "color": "#f2f5fa"
            },
            "marker": {
             "line": {
              "color": "rgb(17,17,17)",
              "width": 0.5
             },
             "pattern": {
              "fillmode": "overlay",
              "size": 10,
              "solidity": 0.2
             }
            },
            "type": "bar"
           }
          ],
          "scattergeo": [
           {
            "type": "scattergeo",
            "marker": {
             "colorbar": {
              "outlinewidth": 0,
              "ticks": ""
             }
            }
           }
          ],
          "scatterpolar": [
           {
            "type": "scatterpolar",
            "marker": {
             "colorbar": {
              "outlinewidth": 0,
              "ticks": ""
             }
            }
           }
          ],
          "histogram": [
           {
            "marker": {
             "pattern": {
              "fillmode": "overlay",
              "size": 10,
              "solidity": 0.2
             }
            },
            "type": "histogram"
           }
          ],
          "scattergl": [
           {
            "marker": {
             "line": {
              "color": "#283442"
             }
            },
            "type": "scattergl"
           }
          ],
          "scatter3d": [
           {
            "type": "scatter3d",
            "line": {
             "colorbar": {
              "outlinewidth": 0,
              "ticks": ""
             }
            },
            "marker": {
             "colorbar": {
              "outlinewidth": 0,
              "ticks": ""
             }
            }
           }
          ],
          "scattermapbox": [
           {
            "type": "scattermapbox",
            "marker": {
             "colorbar": {
              "outlinewidth": 0,
              "ticks": ""
             }
            }
           }
          ],
          "scatterternary": [
           {
            "type": "scatterternary",
            "marker": {
             "colorbar": {
              "outlinewidth": 0,
              "ticks": ""
             }
            }
           }
          ],
          "scattercarpet": [
           {
            "type": "scattercarpet",
            "marker": {
             "colorbar": {
              "outlinewidth": 0,
              "ticks": ""
             }
            }
           }
          ],
          "carpet": [
           {
            "aaxis": {
             "endlinecolor": "#A2B1C6",
             "gridcolor": "#506784",
             "linecolor": "#506784",
             "minorgridcolor": "#506784",
             "startlinecolor": "#A2B1C6"
            },
            "baxis": {
             "endlinecolor": "#A2B1C6",
             "gridcolor": "#506784",
             "linecolor": "#506784",
             "minorgridcolor": "#506784",
             "startlinecolor": "#A2B1C6"
            },
            "type": "carpet"
           }
          ],
          "table": [
           {
            "cells": {
             "fill": {
              "color": "#506784"
             },
             "line": {
              "color": "rgb(17,17,17)"
             }
            },
            "header": {
             "fill": {
              "color": "#2a3f5f"
             },
             "line": {
              "color": "rgb(17,17,17)"
             }
            },
            "type": "table"
           }
          ],
          "barpolar": [
           {
            "marker": {
             "line": {
              "color": "rgb(17,17,17)",
              "width": 0.5
             },
             "pattern": {
              "fillmode": "overlay",
              "size": 10,
              "solidity": 0.2
             }
            },
            "type": "barpolar"
           }
          ],
          "pie": [
           {
            "automargin": true,
            "type": "pie"
           }
          ]
         },
         "layout": {
          "autotypenumbers": "strict",
          "colorway": [
           "#636efa",
           "#EF553B",
           "#00cc96",
           "#ab63fa",
           "#FFA15A",
           "#19d3f3",
           "#FF6692",
           "#B6E880",
           "#FF97FF",
           "#FECB52"
          ],
          "font": {
           "color": "#f2f5fa"
          },
          "hovermode": "closest",
          "hoverlabel": {
           "align": "left"
          },
          "paper_bgcolor": "rgb(17,17,17)",
          "plot_bgcolor": "rgb(17,17,17)",
          "polar": {
           "bgcolor": "rgb(17,17,17)",
           "angularaxis": {
            "gridcolor": "#506784",
            "linecolor": "#506784",
            "ticks": ""
           },
           "radialaxis": {
            "gridcolor": "#506784",
            "linecolor": "#506784",
            "ticks": ""
           }
          },
          "ternary": {
           "bgcolor": "rgb(17,17,17)",
           "aaxis": {
            "gridcolor": "#506784",
            "linecolor": "#506784",
            "ticks": ""
           },
           "baxis": {
            "gridcolor": "#506784",
            "linecolor": "#506784",
            "ticks": ""
           },
           "caxis": {
            "gridcolor": "#506784",
            "linecolor": "#506784",
            "ticks": ""
           }
          },
          "coloraxis": {
           "colorbar": {
            "outlinewidth": 0,
            "ticks": ""
           }
          },
          "colorscale": {
           "sequential": [
            [
             0.0,
             "#0d0887"
            ],
            [
             0.1111111111111111,
             "#46039f"
            ],
            [
             0.2222222222222222,
             "#7201a8"
            ],
            [
             0.3333333333333333,
             "#9c179e"
            ],
            [
             0.4444444444444444,
             "#bd3786"
            ],
            [
             0.5555555555555556,
             "#d8576b"
            ],
            [
             0.6666666666666666,
             "#ed7953"
            ],
            [
             0.7777777777777778,
             "#fb9f3a"
            ],
            [
             0.8888888888888888,
             "#fdca26"
            ],
            [
             1.0,
             "#f0f921"
            ]
           ],
           "sequentialminus": [
            [
             0.0,
             "#0d0887"
            ],
            [
             0.1111111111111111,
             "#46039f"
            ],
            [
             0.2222222222222222,
             "#7201a8"
            ],
            [
             0.3333333333333333,
             "#9c179e"
            ],
            [
             0.4444444444444444,
             "#bd3786"
            ],
            [
             0.5555555555555556,
             "#d8576b"
            ],
            [
             0.6666666666666666,
             "#ed7953"
            ],
            [
             0.7777777777777778,
             "#fb9f3a"
            ],
            [
             0.8888888888888888,
             "#fdca26"
            ],
            [
             1.0,
             "#f0f921"
            ]
           ],
           "diverging": [
            [
             0,
             "#8e0152"
            ],
            [
             0.1,
             "#c51b7d"
            ],
            [
             0.2,
             "#de77ae"
            ],
            [
             0.3,
             "#f1b6da"
            ],
            [
             0.4,
             "#fde0ef"
            ],
            [
             0.5,
             "#f7f7f7"
            ],
            [
             0.6,
             "#e6f5d0"
            ],
            [
             0.7,
             "#b8e186"
            ],
            [
             0.8,
             "#7fbc41"
            ],
            [
             0.9,
             "#4d9221"
            ],
            [
             1,
             "#276419"
            ]
           ]
          },
          "xaxis": {
           "gridcolor": "#283442",
           "linecolor": "#506784",
           "ticks": "",
           "title": {
            "standoff": 15
           },
           "zerolinecolor": "#283442",
           "automargin": true,
           "zerolinewidth": 2
          },
          "yaxis": {
           "gridcolor": "#283442",
           "linecolor": "#506784",
           "ticks": "",
           "title": {
            "standoff": 15
           },
           "zerolinecolor": "#283442",
           "automargin": true,
           "zerolinewidth": 2
          },
          "scene": {
           "xaxis": {
            "backgroundcolor": "rgb(17,17,17)",
            "gridcolor": "#506784",
            "linecolor": "#506784",
            "showbackground": true,
            "ticks": "",
            "zerolinecolor": "#C8D4E3",
            "gridwidth": 2
           },
           "yaxis": {
            "backgroundcolor": "rgb(17,17,17)",
            "gridcolor": "#506784",
            "linecolor": "#506784",
            "showbackground": true,
            "ticks": "",
            "zerolinecolor": "#C8D4E3",
            "gridwidth": 2
           },
           "zaxis": {
            "backgroundcolor": "rgb(17,17,17)",
            "gridcolor": "#506784",
            "linecolor": "#506784",
            "showbackground": true,
            "ticks": "",
            "zerolinecolor": "#C8D4E3",
            "gridwidth": 2
           }
          },
          "shapedefaults": {
           "line": {
            "color": "#f2f5fa"
           }
          },
          "annotationdefaults": {
           "arrowcolor": "#f2f5fa",
           "arrowhead": 0,
           "arrowwidth": 1
          },
          "geo": {
           "bgcolor": "rgb(17,17,17)",
           "landcolor": "rgb(17,17,17)",
           "subunitcolor": "#506784",
           "showland": true,
           "showlakes": true,
           "lakecolor": "rgb(17,17,17)"
          },
          "title": {
           "x": 0.05
          },
          "updatemenudefaults": {
           "bgcolor": "#506784",
           "borderwidth": 0
          },
          "sliderdefaults": {
           "bgcolor": "#C8D4E3",
           "borderwidth": 1,
           "bordercolor": "rgb(17,17,17)",
           "tickwidth": 0
          },
          "mapbox": {
           "style": "dark"
          }
         }
        },
        "mapbox": {
         "domain": {
          "x": [
           0.0,
           1.0
          ],
          "y": [
           0.0,
           1.0
          ]
         },
         "center": {
          "lat": -7.100502685483871,
          "lon": -36.59066933747453
         },
         "zoom": 7,
         "style": "open-street-map"
        },
        "coloraxis": {
         "colorbar": {
          "title": {
           "text": "% moradores cobertos"
          }
         },
         "colorscale": [
          [
           0.0,
           "#0d0887"
          ],
          [
           0.1111111111111111,
           "#46039f"
          ],
          [
           0.2222222222222222,
           "#7201a8"
          ],
          [
           0.3333333333333333,
           "#9c179e"
          ],
          [
           0.4444444444444444,
           "#bd3786"
          ],
          [
           0.5555555555555556,
           "#d8576b"
          ],
          [
           0.6666666666666666,
           "#ed7953"
          ],
          [
           0.7777777777777778,
           "#fb9f3a"
          ],
          [
           0.8888888888888888,
           "#fdca26"
          ],
          [
           1.0,
           "#f0f921"
          ]
         ]
        },
        "legend": {
         "tracegroupgap": 0
        },
        "margin": {
         "t": 0,
         "r": 0,
         "l": 0,
         "b": 0
        },
        "height": 600
       },
       "config": {
        "plotlyServerURL": "https://plot.ly"
       }
      },
      "text/html": [
       "<div>                            <div id=\"1aa99e8e-6a88-4977-8d74-31963bc27aff\" class=\"plotly-graph-div\" style=\"height:600px; width:100%;\"></div>            <script type=\"text/javascript\">                require([\"plotly\"], function(Plotly) {                    window.PLOTLYENV=window.PLOTLYENV || {};                                    if (document.getElementById(\"1aa99e8e-6a88-4977-8d74-31963bc27aff\")) {                    Plotly.newPlot(                        \"1aa99e8e-6a88-4977-8d74-31963bc27aff\",                        [{\"coloraxis\":\"coloraxis\",\"hovertemplate\":\"% moradores cobertos=%{z}\\u003cbr\\u003eLatitude=%{lat}\\u003cbr\\u003eLongitude=%{lon}\\u003cextra\\u003e\\u003c\\u002fextra\\u003e\",\"lat\":[-7.5151046,-7.0415212,-7.7413424,-7.4304246,-6.7859598,-6.9680243,-7.073396,-7.5230865,-7.7528088,-6.6967586,-7.4202462,-7.3143332,-6.8066718,-6.9259193,-6.6425101,-6.6146866,-7.885031,-7.0395225,-7.4199652,-7.2600359,-7.0175897,-6.8647974,-6.912922,-7.2889695,-6.6032239,-7.3577473,-6.8283007,-6.6123046,-7.1215981,-6.991929,-6.6808819,-7.2582944,-7.7060905,-7.1812758,-7.1219554,-7.264629,-7.088656,-7.0309389,-6.9156749,-7.4782417,-7.2289861,-7.1364483,-6.7809356,-6.4050165,-7.6948841,-7.3640404,-6.5408387,-6.4355877,-7.3856858,-7.128465,-6.4859187,-6.8174316,-6.7758264,-7.2504094,-6.933337,-7.2146596,-7.1442879,-6.767694,-7.206294,-6.5790424,-7.696494,-8.075514],\"lon\":[-37.6394034,-35.6285322,-36.0653565,-34.9106103,-38.0831353,-35.6994783,-36.7274003,-35.9988518,-36.3170996,-35.5369626,-38.2156782,-38.5146677,-35.5990191,-38.6742159,-35.7929304,-35.4681434,-36.824191,-38.3432281,-36.0207132,-34.9053524,-37.9465062,-36.3525993,-35.250219,-37.0880761,-35.627146,-35.7839735,-35.244782,-35.2919016,-34.882028,-36.7137661,-35.363768423421334,-37.4269768,-38.1531251,-35.7330712,-35.7713426,-37.3383363,-35.9577367,-35.4646079,-38.3251082,-38.0404379,-37.7490068,-37.0474285,-35.4967135,-38.4964786,-37.0830343,-35.9016644,-35.6608948,-37.6560108,-37.987565,-34.9846186,-37.4469328,-37.942643,-36.797916,-35.2094114,-36.400864,-38.3719684,-35.2357401,-36.2455081,-36.824499,-38.5969865,-35.6666231,-37.0985126],\"name\":\"\",\"radius\":30,\"subplot\":\"mapbox\",\"z\":[63.36,64.71,93.55,99.23,99.57,68.08,77.5,99.95,68.29,91.01,82.12,88.22,91.95,87.72,92.39,77.4,99.99,71.31,99.39,94.74,93.17,96.53,46.48,75.61,55.22,100.0,100.0,84.38,97.25,98.35,77.45,96.5,82.29,87.89,87.33,88.11,100.0,91.08,99.69,100.0,63.75,100.0,91.06,93.76,86.28,52.84,99.19,86.24,74.44,100.0,63.1,98.97,100.0,64.72,96.49,88.7,72.15,86.14,94.15,73.66,89.74,100.0],\"type\":\"densitymapbox\"}],                        {\"template\":{\"data\":{\"histogram2dcontour\":[{\"type\":\"histogram2dcontour\",\"colorbar\":{\"outlinewidth\":0,\"ticks\":\"\"},\"colorscale\":[[0.0,\"#0d0887\"],[0.1111111111111111,\"#46039f\"],[0.2222222222222222,\"#7201a8\"],[0.3333333333333333,\"#9c179e\"],[0.4444444444444444,\"#bd3786\"],[0.5555555555555556,\"#d8576b\"],[0.6666666666666666,\"#ed7953\"],[0.7777777777777778,\"#fb9f3a\"],[0.8888888888888888,\"#fdca26\"],[1.0,\"#f0f921\"]]}],\"choropleth\":[{\"type\":\"choropleth\",\"colorbar\":{\"outlinewidth\":0,\"ticks\":\"\"}}],\"histogram2d\":[{\"type\":\"histogram2d\",\"colorbar\":{\"outlinewidth\":0,\"ticks\":\"\"},\"colorscale\":[[0.0,\"#0d0887\"],[0.1111111111111111,\"#46039f\"],[0.2222222222222222,\"#7201a8\"],[0.3333333333333333,\"#9c179e\"],[0.4444444444444444,\"#bd3786\"],[0.5555555555555556,\"#d8576b\"],[0.6666666666666666,\"#ed7953\"],[0.7777777777777778,\"#fb9f3a\"],[0.8888888888888888,\"#fdca26\"],[1.0,\"#f0f921\"]]}],\"heatmap\":[{\"type\":\"heatmap\",\"colorbar\":{\"outlinewidth\":0,\"ticks\":\"\"},\"colorscale\":[[0.0,\"#0d0887\"],[0.1111111111111111,\"#46039f\"],[0.2222222222222222,\"#7201a8\"],[0.3333333333333333,\"#9c179e\"],[0.4444444444444444,\"#bd3786\"],[0.5555555555555556,\"#d8576b\"],[0.6666666666666666,\"#ed7953\"],[0.7777777777777778,\"#fb9f3a\"],[0.8888888888888888,\"#fdca26\"],[1.0,\"#f0f921\"]]}],\"heatmapgl\":[{\"type\":\"heatmapgl\",\"colorbar\":{\"outlinewidth\":0,\"ticks\":\"\"},\"colorscale\":[[0.0,\"#0d0887\"],[0.1111111111111111,\"#46039f\"],[0.2222222222222222,\"#7201a8\"],[0.3333333333333333,\"#9c179e\"],[0.4444444444444444,\"#bd3786\"],[0.5555555555555556,\"#d8576b\"],[0.6666666666666666,\"#ed7953\"],[0.7777777777777778,\"#fb9f3a\"],[0.8888888888888888,\"#fdca26\"],[1.0,\"#f0f921\"]]}],\"contourcarpet\":[{\"type\":\"contourcarpet\",\"colorbar\":{\"outlinewidth\":0,\"ticks\":\"\"}}],\"contour\":[{\"type\":\"contour\",\"colorbar\":{\"outlinewidth\":0,\"ticks\":\"\"},\"colorscale\":[[0.0,\"#0d0887\"],[0.1111111111111111,\"#46039f\"],[0.2222222222222222,\"#7201a8\"],[0.3333333333333333,\"#9c179e\"],[0.4444444444444444,\"#bd3786\"],[0.5555555555555556,\"#d8576b\"],[0.6666666666666666,\"#ed7953\"],[0.7777777777777778,\"#fb9f3a\"],[0.8888888888888888,\"#fdca26\"],[1.0,\"#f0f921\"]]}],\"surface\":[{\"type\":\"surface\",\"colorbar\":{\"outlinewidth\":0,\"ticks\":\"\"},\"colorscale\":[[0.0,\"#0d0887\"],[0.1111111111111111,\"#46039f\"],[0.2222222222222222,\"#7201a8\"],[0.3333333333333333,\"#9c179e\"],[0.4444444444444444,\"#bd3786\"],[0.5555555555555556,\"#d8576b\"],[0.6666666666666666,\"#ed7953\"],[0.7777777777777778,\"#fb9f3a\"],[0.8888888888888888,\"#fdca26\"],[1.0,\"#f0f921\"]]}],\"mesh3d\":[{\"type\":\"mesh3d\",\"colorbar\":{\"outlinewidth\":0,\"ticks\":\"\"}}],\"scatter\":[{\"marker\":{\"line\":{\"color\":\"#283442\"}},\"type\":\"scatter\"}],\"parcoords\":[{\"type\":\"parcoords\",\"line\":{\"colorbar\":{\"outlinewidth\":0,\"ticks\":\"\"}}}],\"scatterpolargl\":[{\"type\":\"scatterpolargl\",\"marker\":{\"colorbar\":{\"outlinewidth\":0,\"ticks\":\"\"}}}],\"bar\":[{\"error_x\":{\"color\":\"#f2f5fa\"},\"error_y\":{\"color\":\"#f2f5fa\"},\"marker\":{\"line\":{\"color\":\"rgb(17,17,17)\",\"width\":0.5},\"pattern\":{\"fillmode\":\"overlay\",\"size\":10,\"solidity\":0.2}},\"type\":\"bar\"}],\"scattergeo\":[{\"type\":\"scattergeo\",\"marker\":{\"colorbar\":{\"outlinewidth\":0,\"ticks\":\"\"}}}],\"scatterpolar\":[{\"type\":\"scatterpolar\",\"marker\":{\"colorbar\":{\"outlinewidth\":0,\"ticks\":\"\"}}}],\"histogram\":[{\"marker\":{\"pattern\":{\"fillmode\":\"overlay\",\"size\":10,\"solidity\":0.2}},\"type\":\"histogram\"}],\"scattergl\":[{\"marker\":{\"line\":{\"color\":\"#283442\"}},\"type\":\"scattergl\"}],\"scatter3d\":[{\"type\":\"scatter3d\",\"line\":{\"colorbar\":{\"outlinewidth\":0,\"ticks\":\"\"}},\"marker\":{\"colorbar\":{\"outlinewidth\":0,\"ticks\":\"\"}}}],\"scattermapbox\":[{\"type\":\"scattermapbox\",\"marker\":{\"colorbar\":{\"outlinewidth\":0,\"ticks\":\"\"}}}],\"scatterternary\":[{\"type\":\"scatterternary\",\"marker\":{\"colorbar\":{\"outlinewidth\":0,\"ticks\":\"\"}}}],\"scattercarpet\":[{\"type\":\"scattercarpet\",\"marker\":{\"colorbar\":{\"outlinewidth\":0,\"ticks\":\"\"}}}],\"carpet\":[{\"aaxis\":{\"endlinecolor\":\"#A2B1C6\",\"gridcolor\":\"#506784\",\"linecolor\":\"#506784\",\"minorgridcolor\":\"#506784\",\"startlinecolor\":\"#A2B1C6\"},\"baxis\":{\"endlinecolor\":\"#A2B1C6\",\"gridcolor\":\"#506784\",\"linecolor\":\"#506784\",\"minorgridcolor\":\"#506784\",\"startlinecolor\":\"#A2B1C6\"},\"type\":\"carpet\"}],\"table\":[{\"cells\":{\"fill\":{\"color\":\"#506784\"},\"line\":{\"color\":\"rgb(17,17,17)\"}},\"header\":{\"fill\":{\"color\":\"#2a3f5f\"},\"line\":{\"color\":\"rgb(17,17,17)\"}},\"type\":\"table\"}],\"barpolar\":[{\"marker\":{\"line\":{\"color\":\"rgb(17,17,17)\",\"width\":0.5},\"pattern\":{\"fillmode\":\"overlay\",\"size\":10,\"solidity\":0.2}},\"type\":\"barpolar\"}],\"pie\":[{\"automargin\":true,\"type\":\"pie\"}]},\"layout\":{\"autotypenumbers\":\"strict\",\"colorway\":[\"#636efa\",\"#EF553B\",\"#00cc96\",\"#ab63fa\",\"#FFA15A\",\"#19d3f3\",\"#FF6692\",\"#B6E880\",\"#FF97FF\",\"#FECB52\"],\"font\":{\"color\":\"#f2f5fa\"},\"hovermode\":\"closest\",\"hoverlabel\":{\"align\":\"left\"},\"paper_bgcolor\":\"rgb(17,17,17)\",\"plot_bgcolor\":\"rgb(17,17,17)\",\"polar\":{\"bgcolor\":\"rgb(17,17,17)\",\"angularaxis\":{\"gridcolor\":\"#506784\",\"linecolor\":\"#506784\",\"ticks\":\"\"},\"radialaxis\":{\"gridcolor\":\"#506784\",\"linecolor\":\"#506784\",\"ticks\":\"\"}},\"ternary\":{\"bgcolor\":\"rgb(17,17,17)\",\"aaxis\":{\"gridcolor\":\"#506784\",\"linecolor\":\"#506784\",\"ticks\":\"\"},\"baxis\":{\"gridcolor\":\"#506784\",\"linecolor\":\"#506784\",\"ticks\":\"\"},\"caxis\":{\"gridcolor\":\"#506784\",\"linecolor\":\"#506784\",\"ticks\":\"\"}},\"coloraxis\":{\"colorbar\":{\"outlinewidth\":0,\"ticks\":\"\"}},\"colorscale\":{\"sequential\":[[0.0,\"#0d0887\"],[0.1111111111111111,\"#46039f\"],[0.2222222222222222,\"#7201a8\"],[0.3333333333333333,\"#9c179e\"],[0.4444444444444444,\"#bd3786\"],[0.5555555555555556,\"#d8576b\"],[0.6666666666666666,\"#ed7953\"],[0.7777777777777778,\"#fb9f3a\"],[0.8888888888888888,\"#fdca26\"],[1.0,\"#f0f921\"]],\"sequentialminus\":[[0.0,\"#0d0887\"],[0.1111111111111111,\"#46039f\"],[0.2222222222222222,\"#7201a8\"],[0.3333333333333333,\"#9c179e\"],[0.4444444444444444,\"#bd3786\"],[0.5555555555555556,\"#d8576b\"],[0.6666666666666666,\"#ed7953\"],[0.7777777777777778,\"#fb9f3a\"],[0.8888888888888888,\"#fdca26\"],[1.0,\"#f0f921\"]],\"diverging\":[[0,\"#8e0152\"],[0.1,\"#c51b7d\"],[0.2,\"#de77ae\"],[0.3,\"#f1b6da\"],[0.4,\"#fde0ef\"],[0.5,\"#f7f7f7\"],[0.6,\"#e6f5d0\"],[0.7,\"#b8e186\"],[0.8,\"#7fbc41\"],[0.9,\"#4d9221\"],[1,\"#276419\"]]},\"xaxis\":{\"gridcolor\":\"#283442\",\"linecolor\":\"#506784\",\"ticks\":\"\",\"title\":{\"standoff\":15},\"zerolinecolor\":\"#283442\",\"automargin\":true,\"zerolinewidth\":2},\"yaxis\":{\"gridcolor\":\"#283442\",\"linecolor\":\"#506784\",\"ticks\":\"\",\"title\":{\"standoff\":15},\"zerolinecolor\":\"#283442\",\"automargin\":true,\"zerolinewidth\":2},\"scene\":{\"xaxis\":{\"backgroundcolor\":\"rgb(17,17,17)\",\"gridcolor\":\"#506784\",\"linecolor\":\"#506784\",\"showbackground\":true,\"ticks\":\"\",\"zerolinecolor\":\"#C8D4E3\",\"gridwidth\":2},\"yaxis\":{\"backgroundcolor\":\"rgb(17,17,17)\",\"gridcolor\":\"#506784\",\"linecolor\":\"#506784\",\"showbackground\":true,\"ticks\":\"\",\"zerolinecolor\":\"#C8D4E3\",\"gridwidth\":2},\"zaxis\":{\"backgroundcolor\":\"rgb(17,17,17)\",\"gridcolor\":\"#506784\",\"linecolor\":\"#506784\",\"showbackground\":true,\"ticks\":\"\",\"zerolinecolor\":\"#C8D4E3\",\"gridwidth\":2}},\"shapedefaults\":{\"line\":{\"color\":\"#f2f5fa\"}},\"annotationdefaults\":{\"arrowcolor\":\"#f2f5fa\",\"arrowhead\":0,\"arrowwidth\":1},\"geo\":{\"bgcolor\":\"rgb(17,17,17)\",\"landcolor\":\"rgb(17,17,17)\",\"subunitcolor\":\"#506784\",\"showland\":true,\"showlakes\":true,\"lakecolor\":\"rgb(17,17,17)\"},\"title\":{\"x\":0.05},\"updatemenudefaults\":{\"bgcolor\":\"#506784\",\"borderwidth\":0},\"sliderdefaults\":{\"bgcolor\":\"#C8D4E3\",\"borderwidth\":1,\"bordercolor\":\"rgb(17,17,17)\",\"tickwidth\":0},\"mapbox\":{\"style\":\"dark\"}}},\"mapbox\":{\"domain\":{\"x\":[0.0,1.0],\"y\":[0.0,1.0]},\"center\":{\"lat\":-7.100502685483871,\"lon\":-36.59066933747453},\"zoom\":7,\"style\":\"open-street-map\"},\"coloraxis\":{\"colorbar\":{\"title\":{\"text\":\"% moradores cobertos\"}},\"colorscale\":[[0.0,\"#0d0887\"],[0.1111111111111111,\"#46039f\"],[0.2222222222222222,\"#7201a8\"],[0.3333333333333333,\"#9c179e\"],[0.4444444444444444,\"#bd3786\"],[0.5555555555555556,\"#d8576b\"],[0.6666666666666666,\"#ed7953\"],[0.7777777777777778,\"#fb9f3a\"],[0.8888888888888888,\"#fdca26\"],[1.0,\"#f0f921\"]]},\"legend\":{\"tracegroupgap\":0},\"margin\":{\"t\":0,\"r\":0,\"l\":0,\"b\":0},\"height\":600},                        {\"responsive\": true}                    ).then(function(){\n",
       "                            \n",
       "var gd = document.getElementById('1aa99e8e-6a88-4977-8d74-31963bc27aff');\n",
       "var x = new MutationObserver(function (mutations, observer) {{\n",
       "        var display = window.getComputedStyle(gd).display;\n",
       "        if (!display || display === 'none') {{\n",
       "            console.log([gd, 'removed!']);\n",
       "            Plotly.purge(gd);\n",
       "            observer.disconnect();\n",
       "        }}\n",
       "}});\n",
       "\n",
       "// Listen for the removal of the full notebook cells\n",
       "var notebookContainer = gd.closest('#notebook-container');\n",
       "if (notebookContainer) {{\n",
       "    x.observe(notebookContainer, {childList: true});\n",
       "}}\n",
       "\n",
       "// Listen for the clearing of the current output cell\n",
       "var outputEl = gd.closest('.output');\n",
       "if (outputEl) {{\n",
       "    x.observe(outputEl, {childList: true});\n",
       "}}\n",
       "\n",
       "                        })                };                });            </script>        </div>"
      ]
     },
     "metadata": {},
     "output_type": "display_data"
    }
   ],
   "execution_count": 27
  },
  {
   "metadata": {
    "ExecuteTime": {
     "end_time": "2024-09-19T18:11:24.728459Z",
     "start_time": "2024-09-19T18:11:24.724906Z"
    }
   },
   "cell_type": "code",
   "source": "",
   "outputs": [],
   "execution_count": 19
  }
 ],
 "metadata": {
  "kernelspec": {
   "display_name": "venv",
   "language": "python",
   "name": "python3"
  },
  "language_info": {
   "codemirror_mode": {
    "name": "ipython",
    "version": 3
   },
   "file_extension": ".py",
   "mimetype": "text/x-python",
   "name": "python",
   "nbconvert_exporter": "python",
   "pygments_lexer": "ipython3",
   "version": "3.12.4"
  }
 },
 "nbformat": 4,
 "nbformat_minor": 2
}
