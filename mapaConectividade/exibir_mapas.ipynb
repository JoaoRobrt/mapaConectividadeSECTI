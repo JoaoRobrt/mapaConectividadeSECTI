{
 "cells": [
  {
   "cell_type": "code",
   "execution_count": 7,
   "metadata": {},
   "outputs": [
    {
     "name": "stdout",
     "output_type": "stream",
     "text": [
      "['63,36' '64,71' '93,55' '99,23' '99,57' '68,08' '77,50' '99,95' '68,29'\n",
      " '91,01' '82,12' '88,22' '91,95' '87,72' '92,39' '77,40' '99,99' '71,31'\n",
      " '99,39' '94,74' '93,17' '96,53' '46,48' '75,61' '55,22' '100,00' '84,38'\n",
      " '97,25' '98,35' '77,45' '96,50' '82,29' '87,89' '87,33' '88,11' '91,08'\n",
      " '99,69' '63,75' '91,06' '93,76' '86,28' '52,84' '99,19' '86,24' '74,44'\n",
      " '63,10' '98,97' '64,72' '96,49' '88,70' '72,15' '86,14' '94,15' '73,66'\n",
      " '89,74' '82,62' '85,16' '78,87' '99,41' '99,79' '77,38' '99,03' '81,35'\n",
      " '86,90' '91,32' '97,98' '97,71' '75,69' '88,26' '96,48' '88,02' '97,52'\n",
      " '84,54' '83,06' '73,72' '98,95' '95,20' '86,78' '91,52' '63,11' '98,20'\n",
      " '99,02' '93,92' '97,26' '79,94' '83,38' '89,46' '93,47' '78,07' '88,87'\n",
      " '99,75' '72,11' '92,49' '99,76' '94,85' '79,98' '97,48' '87,57' '96,35'\n",
      " '98,61' '74,85' '99,46' '96,13' '99,49' '99,81' '89,48' '99,40' '94,28'\n",
      " '93,38' '89,59' '74,15' '71,80' '73,86' '79,26' '99,55' '97,03' '81,69'\n",
      " '64,88' '83,74' '99,21' '89,87' '97,06' '97,74' '68,06' '94,69' '76,11'\n",
      " '88,14' '84,39' '77,79' '90,98' '99,89' '99,36' '95,25' '86,76' '94,97'\n",
      " '94,22' '88,40' '94,65' '95,16' '85,81' '88,33' '60,31' '81,82' '94,70'\n",
      " '82,18' '62,19' '94,30' '57,63' '76,37' '96,30' '78,95' '98,49' '91,19'\n",
      " '81,77' '87,80' '81,89' '66,04' '39,85' '73,15' '86,49' '63,60' '73,55'\n",
      " '87,85' '99,22' '80,88' '84,34' '71,32' '89,79' '78,52' '96,63' '93,91'\n",
      " '71,27' '94,59' '97,45' '84,19' '89,36' '93,34' '81,01' '80,00' '74,80'\n",
      " '77,73' '94,04' '96,18' '87,60' '97,61' '72,73' '90,55' '97,85' nan]\n"
     ]
    },
    {
     "name": "stderr",
     "output_type": "stream",
     "text": [
      "C:\\Users\\Joao\\AppData\\Local\\Temp\\ipykernel_3420\\905991279.py:26: FutureWarning:\n",
      "\n",
      "A value is trying to be set on a copy of a DataFrame or Series through chained assignment using an inplace method.\n",
      "The behavior will change in pandas 3.0. This inplace method will never work because the intermediate object on which we are setting values always behaves as a copy.\n",
      "\n",
      "For example, when doing 'df[col].method(value, inplace=True)', try using 'df.method({col: value}, inplace=True)' or df[col] = df[col].method(value) instead, to perform the operation inplace on the original object.\n",
      "\n",
      "\n",
      "\n"
     ]
    },
    {
     "data": {
      "text/html": [
       "<div>\n",
       "<style scoped>\n",
       "    .dataframe tbody tr th:only-of-type {\n",
       "        vertical-align: middle;\n",
       "    }\n",
       "\n",
       "    .dataframe tbody tr th {\n",
       "        vertical-align: top;\n",
       "    }\n",
       "\n",
       "    .dataframe thead th {\n",
       "        text-align: right;\n",
       "    }\n",
       "</style>\n",
       "<table border=\"1\" class=\"dataframe\">\n",
       "  <thead>\n",
       "    <tr style=\"text-align: right;\">\n",
       "      <th></th>\n",
       "      <th>Código IBGE</th>\n",
       "      <th>Município</th>\n",
       "      <th>UF</th>\n",
       "      <th>% área coberta</th>\n",
       "      <th>% moradores cobertos</th>\n",
       "      <th>% domicílios cobertos</th>\n",
       "      <th>Área km2</th>\n",
       "      <th>Moradores</th>\n",
       "      <th>Domicílios</th>\n",
       "      <th>Latitude</th>\n",
       "      <th>Longitude</th>\n",
       "    </tr>\n",
       "  </thead>\n",
       "  <tbody>\n",
       "    <tr>\n",
       "      <th>5</th>\n",
       "      <td>2500304.0</td>\n",
       "      <td>Alagoa Grande</td>\n",
       "      <td>PB</td>\n",
       "      <td>67,75</td>\n",
       "      <td>0.0</td>\n",
       "      <td>94,05</td>\n",
       "      <td>320,5623905</td>\n",
       "      <td>28460.0</td>\n",
       "      <td>8012.0</td>\n",
       "      <td>-7.741342</td>\n",
       "      <td>-36.065357</td>\n",
       "    </tr>\n",
       "    <tr>\n",
       "      <th>7</th>\n",
       "      <td>2500403.0</td>\n",
       "      <td>Alagoa Nova</td>\n",
       "      <td>PB</td>\n",
       "      <td>97,82</td>\n",
       "      <td>0.0</td>\n",
       "      <td>99,29</td>\n",
       "      <td>122,2553871</td>\n",
       "      <td>19678.0</td>\n",
       "      <td>5434.0</td>\n",
       "      <td>-7.430425</td>\n",
       "      <td>-34.910610</td>\n",
       "    </tr>\n",
       "    <tr>\n",
       "      <th>10</th>\n",
       "      <td>2500502.0</td>\n",
       "      <td>Alagoinha</td>\n",
       "      <td>PB</td>\n",
       "      <td>98,21</td>\n",
       "      <td>0.0</td>\n",
       "      <td>99,54</td>\n",
       "      <td>96,97979893</td>\n",
       "      <td>13533.0</td>\n",
       "      <td>3686.0</td>\n",
       "      <td>-6.785960</td>\n",
       "      <td>-38.083135</td>\n",
       "    </tr>\n",
       "    <tr>\n",
       "      <th>14</th>\n",
       "      <td>2500536.0</td>\n",
       "      <td>Alcantil</td>\n",
       "      <td>PB</td>\n",
       "      <td>54,17</td>\n",
       "      <td>0.0</td>\n",
       "      <td>68,32</td>\n",
       "      <td>305,393125</td>\n",
       "      <td>5237.0</td>\n",
       "      <td>1565.0</td>\n",
       "      <td>-6.968024</td>\n",
       "      <td>-35.699478</td>\n",
       "    </tr>\n",
       "    <tr>\n",
       "      <th>18</th>\n",
       "      <td>2500577.0</td>\n",
       "      <td>Algodão de Jandaíra</td>\n",
       "      <td>PB</td>\n",
       "      <td>50,86</td>\n",
       "      <td>0.0</td>\n",
       "      <td>77,99</td>\n",
       "      <td>220,2481783</td>\n",
       "      <td>2359.0</td>\n",
       "      <td>673.0</td>\n",
       "      <td>-7.073396</td>\n",
       "      <td>-36.727400</td>\n",
       "    </tr>\n",
       "    <tr>\n",
       "      <th>22</th>\n",
       "      <td>2500601.0</td>\n",
       "      <td>Alhandra</td>\n",
       "      <td>PB</td>\n",
       "      <td>96,42</td>\n",
       "      <td>0.0</td>\n",
       "      <td>99,95</td>\n",
       "      <td>182,6612162</td>\n",
       "      <td>17924.0</td>\n",
       "      <td>5017.0</td>\n",
       "      <td>-7.523086</td>\n",
       "      <td>-35.998852</td>\n",
       "    </tr>\n",
       "    <tr>\n",
       "      <th>24</th>\n",
       "      <td>2500700.0</td>\n",
       "      <td>São João do Rio do Peixe</td>\n",
       "      <td>PB</td>\n",
       "      <td>56,32</td>\n",
       "      <td>0.0</td>\n",
       "      <td>68,33</td>\n",
       "      <td>474,4307206</td>\n",
       "      <td>18144.0</td>\n",
       "      <td>5367.0</td>\n",
       "      <td>-7.752809</td>\n",
       "      <td>-36.317100</td>\n",
       "    </tr>\n",
       "    <tr>\n",
       "      <th>26</th>\n",
       "      <td>2500734.0</td>\n",
       "      <td>Amparo</td>\n",
       "      <td>PB</td>\n",
       "      <td>84,53</td>\n",
       "      <td>0.0</td>\n",
       "      <td>91,59</td>\n",
       "      <td>121,9838433</td>\n",
       "      <td>2088.0</td>\n",
       "      <td>636.0</td>\n",
       "      <td>-6.696759</td>\n",
       "      <td>-35.536963</td>\n",
       "    </tr>\n",
       "    <tr>\n",
       "      <th>29</th>\n",
       "      <td>2500775.0</td>\n",
       "      <td>Aparecida</td>\n",
       "      <td>PB</td>\n",
       "      <td>57,70</td>\n",
       "      <td>0.0</td>\n",
       "      <td>81,42</td>\n",
       "      <td>295,7055688</td>\n",
       "      <td>7668.0</td>\n",
       "      <td>2207.0</td>\n",
       "      <td>-7.420246</td>\n",
       "      <td>-38.215678</td>\n",
       "    </tr>\n",
       "    <tr>\n",
       "      <th>33</th>\n",
       "      <td>2500809.0</td>\n",
       "      <td>Araçagi</td>\n",
       "      <td>PB</td>\n",
       "      <td>75,17</td>\n",
       "      <td>0.0</td>\n",
       "      <td>88,23</td>\n",
       "      <td>231,1550912</td>\n",
       "      <td>17190.0</td>\n",
       "      <td>5004.0</td>\n",
       "      <td>-7.314333</td>\n",
       "      <td>-38.514668</td>\n",
       "    </tr>\n",
       "    <tr>\n",
       "      <th>36</th>\n",
       "      <td>2500908.0</td>\n",
       "      <td>Arara</td>\n",
       "      <td>PB</td>\n",
       "      <td>79,96</td>\n",
       "      <td>0.0</td>\n",
       "      <td>93,39</td>\n",
       "      <td>99,11120816</td>\n",
       "      <td>12627.0</td>\n",
       "      <td>3911.0</td>\n",
       "      <td>-6.806672</td>\n",
       "      <td>-35.599019</td>\n",
       "    </tr>\n",
       "    <tr>\n",
       "      <th>42</th>\n",
       "      <td>2501005.0</td>\n",
       "      <td>Araruna</td>\n",
       "      <td>PB</td>\n",
       "      <td>79,90</td>\n",
       "      <td>0.0</td>\n",
       "      <td>88,22</td>\n",
       "      <td>245,7218701</td>\n",
       "      <td>18821.0</td>\n",
       "      <td>5222.0</td>\n",
       "      <td>-6.925919</td>\n",
       "      <td>-38.674216</td>\n",
       "    </tr>\n",
       "    <tr>\n",
       "      <th>44</th>\n",
       "      <td>2501104.0</td>\n",
       "      <td>Areia</td>\n",
       "      <td>PB</td>\n",
       "      <td>88,60</td>\n",
       "      <td>0.0</td>\n",
       "      <td>93,04</td>\n",
       "      <td>269,4937418</td>\n",
       "      <td>23771.0</td>\n",
       "      <td>6345.0</td>\n",
       "      <td>-6.642510</td>\n",
       "      <td>-35.792930</td>\n",
       "    </tr>\n",
       "    <tr>\n",
       "      <th>46</th>\n",
       "      <td>2501153.0</td>\n",
       "      <td>Areia de Baraúnas</td>\n",
       "      <td>PB</td>\n",
       "      <td>62,79</td>\n",
       "      <td>0.0</td>\n",
       "      <td>78,44</td>\n",
       "      <td>96,34277462</td>\n",
       "      <td>1927.0</td>\n",
       "      <td>488.0</td>\n",
       "      <td>-6.614687</td>\n",
       "      <td>-35.468143</td>\n",
       "    </tr>\n",
       "    <tr>\n",
       "      <th>50</th>\n",
       "      <td>2501203.0</td>\n",
       "      <td>Areial</td>\n",
       "      <td>PB</td>\n",
       "      <td>99,83</td>\n",
       "      <td>0.0</td>\n",
       "      <td>99,99</td>\n",
       "      <td>33,14210413</td>\n",
       "      <td>6438.0</td>\n",
       "      <td>1951.0</td>\n",
       "      <td>-7.885031</td>\n",
       "      <td>-36.824191</td>\n",
       "    </tr>\n",
       "    <tr>\n",
       "      <th>54</th>\n",
       "      <td>2501302.0</td>\n",
       "      <td>Aroeiras</td>\n",
       "      <td>PB</td>\n",
       "      <td>46,51</td>\n",
       "      <td>0.0</td>\n",
       "      <td>72,50</td>\n",
       "      <td>374,6964615</td>\n",
       "      <td>19046.0</td>\n",
       "      <td>5421.0</td>\n",
       "      <td>-7.039523</td>\n",
       "      <td>-38.343228</td>\n",
       "    </tr>\n",
       "    <tr>\n",
       "      <th>58</th>\n",
       "      <td>2501351.0</td>\n",
       "      <td>Assunção</td>\n",
       "      <td>PB</td>\n",
       "      <td>96,31</td>\n",
       "      <td>0.0</td>\n",
       "      <td>99,48</td>\n",
       "      <td>126,4281801</td>\n",
       "      <td>3514.0</td>\n",
       "      <td>1042.0</td>\n",
       "      <td>-7.419965</td>\n",
       "      <td>-36.020713</td>\n",
       "    </tr>\n",
       "    <tr>\n",
       "      <th>61</th>\n",
       "      <td>2501401.0</td>\n",
       "      <td>Baía da Traição</td>\n",
       "      <td>PB</td>\n",
       "      <td>73,73</td>\n",
       "      <td>0.0</td>\n",
       "      <td>95,39</td>\n",
       "      <td>102,3694395</td>\n",
       "      <td>7995.0</td>\n",
       "      <td>2096.0</td>\n",
       "      <td>-7.260036</td>\n",
       "      <td>-34.905352</td>\n",
       "    </tr>\n",
       "    <tr>\n",
       "      <th>63</th>\n",
       "      <td>2501500.0</td>\n",
       "      <td>Bananeiras</td>\n",
       "      <td>PB</td>\n",
       "      <td>88,25</td>\n",
       "      <td>0.0</td>\n",
       "      <td>93,37</td>\n",
       "      <td>257,9311542</td>\n",
       "      <td>21802.0</td>\n",
       "      <td>5930.0</td>\n",
       "      <td>-7.017590</td>\n",
       "      <td>-37.946506</td>\n",
       "    </tr>\n",
       "    <tr>\n",
       "      <th>66</th>\n",
       "      <td>2501534.0</td>\n",
       "      <td>Baraúna</td>\n",
       "      <td>PB</td>\n",
       "      <td>86,11</td>\n",
       "      <td>0.0</td>\n",
       "      <td>96,77</td>\n",
       "      <td>50,5813318</td>\n",
       "      <td>4220.0</td>\n",
       "      <td>1300.0</td>\n",
       "      <td>-6.864797</td>\n",
       "      <td>-36.352599</td>\n",
       "    </tr>\n",
       "    <tr>\n",
       "      <th>69</th>\n",
       "      <td>2501575.0</td>\n",
       "      <td>Barra de Santana</td>\n",
       "      <td>PB</td>\n",
       "      <td>42,61</td>\n",
       "      <td>0.0</td>\n",
       "      <td>47,69</td>\n",
       "      <td>376,9130823</td>\n",
       "      <td>8189.0</td>\n",
       "      <td>2421.0</td>\n",
       "      <td>-6.912922</td>\n",
       "      <td>-35.250219</td>\n",
       "    </tr>\n",
       "    <tr>\n",
       "      <th>73</th>\n",
       "      <td>2501609.0</td>\n",
       "      <td>Barra de Santa Rosa</td>\n",
       "      <td>PB</td>\n",
       "      <td>32,22</td>\n",
       "      <td>0.0</td>\n",
       "      <td>77,37</td>\n",
       "      <td>775,6637681</td>\n",
       "      <td>14136.0</td>\n",
       "      <td>4191.0</td>\n",
       "      <td>-7.288970</td>\n",
       "      <td>-37.088076</td>\n",
       "    </tr>\n",
       "    <tr>\n",
       "      <th>76</th>\n",
       "      <td>2501708.0</td>\n",
       "      <td>Barra de São Miguel</td>\n",
       "      <td>PB</td>\n",
       "      <td>44,34</td>\n",
       "      <td>0.0</td>\n",
       "      <td>57,46</td>\n",
       "      <td>595,2098762</td>\n",
       "      <td>5604.0</td>\n",
       "      <td>1633.0</td>\n",
       "      <td>-6.603224</td>\n",
       "      <td>-35.627146</td>\n",
       "    </tr>\n",
       "    <tr>\n",
       "      <th>80</th>\n",
       "      <td>2501807.0</td>\n",
       "      <td>Bayeux</td>\n",
       "      <td>PB</td>\n",
       "      <td>100,00</td>\n",
       "      <td>0.0</td>\n",
       "      <td>100,00</td>\n",
       "      <td>31,97330129</td>\n",
       "      <td>99585.0</td>\n",
       "      <td>27934.0</td>\n",
       "      <td>-7.357747</td>\n",
       "      <td>-35.783974</td>\n",
       "    </tr>\n",
       "    <tr>\n",
       "      <th>91</th>\n",
       "      <td>2501906.0</td>\n",
       "      <td>Belém</td>\n",
       "      <td>PB</td>\n",
       "      <td>100,00</td>\n",
       "      <td>0.0</td>\n",
       "      <td>100,00</td>\n",
       "      <td>100,1544185</td>\n",
       "      <td>17022.0</td>\n",
       "      <td>5150.0</td>\n",
       "      <td>-6.828301</td>\n",
       "      <td>-35.244782</td>\n",
       "    </tr>\n",
       "    <tr>\n",
       "      <th>93</th>\n",
       "      <td>2502003.0</td>\n",
       "      <td>Belém do Brejo do Cruz</td>\n",
       "      <td>PB</td>\n",
       "      <td>28,00</td>\n",
       "      <td>0.0</td>\n",
       "      <td>84,52</td>\n",
       "      <td>603,0429843</td>\n",
       "      <td>7124.0</td>\n",
       "      <td>1966.0</td>\n",
       "      <td>-6.612305</td>\n",
       "      <td>-35.291902</td>\n",
       "    </tr>\n",
       "    <tr>\n",
       "      <th>95</th>\n",
       "      <td>2502052.0</td>\n",
       "      <td>Bernardino Batista</td>\n",
       "      <td>PB</td>\n",
       "      <td>91,75</td>\n",
       "      <td>0.0</td>\n",
       "      <td>97,38</td>\n",
       "      <td>50,62848846</td>\n",
       "      <td>3060.0</td>\n",
       "      <td>799.0</td>\n",
       "      <td>-7.121598</td>\n",
       "      <td>-34.882028</td>\n",
       "    </tr>\n",
       "    <tr>\n",
       "      <th>98</th>\n",
       "      <td>2502102.0</td>\n",
       "      <td>Boa Ventura</td>\n",
       "      <td>PB</td>\n",
       "      <td>89,14</td>\n",
       "      <td>0.0</td>\n",
       "      <td>98,52</td>\n",
       "      <td>170,5806275</td>\n",
       "      <td>5743.0</td>\n",
       "      <td>1492.0</td>\n",
       "      <td>-6.991929</td>\n",
       "      <td>-36.713766</td>\n",
       "    </tr>\n",
       "    <tr>\n",
       "      <th>102</th>\n",
       "      <td>2502151.0</td>\n",
       "      <td>Boa Vista</td>\n",
       "      <td>PB</td>\n",
       "      <td>47,92</td>\n",
       "      <td>0.0</td>\n",
       "      <td>77,86</td>\n",
       "      <td>476,5435495</td>\n",
       "      <td>6204.0</td>\n",
       "      <td>1730.0</td>\n",
       "      <td>-6.680882</td>\n",
       "      <td>-35.363768</td>\n",
       "    </tr>\n",
       "    <tr>\n",
       "      <th>108</th>\n",
       "      <td>2502201.0</td>\n",
       "      <td>Bom Jesus</td>\n",
       "      <td>PB</td>\n",
       "      <td>94,01</td>\n",
       "      <td>0.0</td>\n",
       "      <td>96,60</td>\n",
       "      <td>47,5020214</td>\n",
       "      <td>2400.0</td>\n",
       "      <td>699.0</td>\n",
       "      <td>-7.258294</td>\n",
       "      <td>-37.426977</td>\n",
       "    </tr>\n",
       "    <tr>\n",
       "      <th>111</th>\n",
       "      <td>2502300.0</td>\n",
       "      <td>Bom Sucesso</td>\n",
       "      <td>PB</td>\n",
       "      <td>79,58</td>\n",
       "      <td>0.0</td>\n",
       "      <td>82,26</td>\n",
       "      <td>184,1012945</td>\n",
       "      <td>5028.0</td>\n",
       "      <td>1513.0</td>\n",
       "      <td>-7.706091</td>\n",
       "      <td>-38.153125</td>\n",
       "    </tr>\n",
       "    <tr>\n",
       "      <th>115</th>\n",
       "      <td>2502409.0</td>\n",
       "      <td>Bonito de Santa Fé</td>\n",
       "      <td>PB</td>\n",
       "      <td>64,93</td>\n",
       "      <td>0.0</td>\n",
       "      <td>89,07</td>\n",
       "      <td>228,3264688</td>\n",
       "      <td>10782.0</td>\n",
       "      <td>2801.0</td>\n",
       "      <td>-7.181276</td>\n",
       "      <td>-35.733071</td>\n",
       "    </tr>\n",
       "    <tr>\n",
       "      <th>117</th>\n",
       "      <td>2502508.0</td>\n",
       "      <td>Boqueirão</td>\n",
       "      <td>PB</td>\n",
       "      <td>49,28</td>\n",
       "      <td>0.0</td>\n",
       "      <td>87,96</td>\n",
       "      <td>371,9847051</td>\n",
       "      <td>16865.0</td>\n",
       "      <td>4853.0</td>\n",
       "      <td>-7.121955</td>\n",
       "      <td>-35.771343</td>\n",
       "    </tr>\n",
       "    <tr>\n",
       "      <th>119</th>\n",
       "      <td>2502607.0</td>\n",
       "      <td>Igaracy</td>\n",
       "      <td>PB</td>\n",
       "      <td>74,83</td>\n",
       "      <td>0.0</td>\n",
       "      <td>88,84</td>\n",
       "      <td>192,2595816</td>\n",
       "      <td>6137.0</td>\n",
       "      <td>1730.0</td>\n",
       "      <td>-7.264629</td>\n",
       "      <td>-37.338336</td>\n",
       "    </tr>\n",
       "    <tr>\n",
       "      <th>121</th>\n",
       "      <td>2502706.0</td>\n",
       "      <td>Borborema</td>\n",
       "      <td>PB</td>\n",
       "      <td>100,00</td>\n",
       "      <td>0.0</td>\n",
       "      <td>100,00</td>\n",
       "      <td>25,97862211</td>\n",
       "      <td>5084.0</td>\n",
       "      <td>1395.0</td>\n",
       "      <td>-7.088656</td>\n",
       "      <td>-35.957737</td>\n",
       "    </tr>\n",
       "  </tbody>\n",
       "</table>\n",
       "</div>"
      ],
      "text/plain": [
       "     Código IBGE                 Município  UF % área coberta  \\\n",
       "5      2500304.0             Alagoa Grande  PB          67,75   \n",
       "7      2500403.0               Alagoa Nova  PB          97,82   \n",
       "10     2500502.0                 Alagoinha  PB          98,21   \n",
       "14     2500536.0                  Alcantil  PB          54,17   \n",
       "18     2500577.0       Algodão de Jandaíra  PB          50,86   \n",
       "22     2500601.0                  Alhandra  PB          96,42   \n",
       "24     2500700.0  São João do Rio do Peixe  PB          56,32   \n",
       "26     2500734.0                    Amparo  PB          84,53   \n",
       "29     2500775.0                 Aparecida  PB          57,70   \n",
       "33     2500809.0                   Araçagi  PB          75,17   \n",
       "36     2500908.0                     Arara  PB          79,96   \n",
       "42     2501005.0                   Araruna  PB          79,90   \n",
       "44     2501104.0                     Areia  PB          88,60   \n",
       "46     2501153.0         Areia de Baraúnas  PB          62,79   \n",
       "50     2501203.0                    Areial  PB          99,83   \n",
       "54     2501302.0                  Aroeiras  PB          46,51   \n",
       "58     2501351.0                  Assunção  PB          96,31   \n",
       "61     2501401.0           Baía da Traição  PB          73,73   \n",
       "63     2501500.0                Bananeiras  PB          88,25   \n",
       "66     2501534.0                   Baraúna  PB          86,11   \n",
       "69     2501575.0          Barra de Santana  PB          42,61   \n",
       "73     2501609.0       Barra de Santa Rosa  PB          32,22   \n",
       "76     2501708.0       Barra de São Miguel  PB          44,34   \n",
       "80     2501807.0                    Bayeux  PB         100,00   \n",
       "91     2501906.0                     Belém  PB         100,00   \n",
       "93     2502003.0    Belém do Brejo do Cruz  PB          28,00   \n",
       "95     2502052.0        Bernardino Batista  PB          91,75   \n",
       "98     2502102.0               Boa Ventura  PB          89,14   \n",
       "102    2502151.0                 Boa Vista  PB          47,92   \n",
       "108    2502201.0                 Bom Jesus  PB          94,01   \n",
       "111    2502300.0               Bom Sucesso  PB          79,58   \n",
       "115    2502409.0        Bonito de Santa Fé  PB          64,93   \n",
       "117    2502508.0                 Boqueirão  PB          49,28   \n",
       "119    2502607.0                   Igaracy  PB          74,83   \n",
       "121    2502706.0                 Borborema  PB         100,00   \n",
       "\n",
       "     % moradores cobertos % domicílios cobertos     Área km2  Moradores  \\\n",
       "5                     0.0                 94,05  320,5623905    28460.0   \n",
       "7                     0.0                 99,29  122,2553871    19678.0   \n",
       "10                    0.0                 99,54  96,97979893    13533.0   \n",
       "14                    0.0                 68,32   305,393125     5237.0   \n",
       "18                    0.0                 77,99  220,2481783     2359.0   \n",
       "22                    0.0                 99,95  182,6612162    17924.0   \n",
       "24                    0.0                 68,33  474,4307206    18144.0   \n",
       "26                    0.0                 91,59  121,9838433     2088.0   \n",
       "29                    0.0                 81,42  295,7055688     7668.0   \n",
       "33                    0.0                 88,23  231,1550912    17190.0   \n",
       "36                    0.0                 93,39  99,11120816    12627.0   \n",
       "42                    0.0                 88,22  245,7218701    18821.0   \n",
       "44                    0.0                 93,04  269,4937418    23771.0   \n",
       "46                    0.0                 78,44  96,34277462     1927.0   \n",
       "50                    0.0                 99,99  33,14210413     6438.0   \n",
       "54                    0.0                 72,50  374,6964615    19046.0   \n",
       "58                    0.0                 99,48  126,4281801     3514.0   \n",
       "61                    0.0                 95,39  102,3694395     7995.0   \n",
       "63                    0.0                 93,37  257,9311542    21802.0   \n",
       "66                    0.0                 96,77   50,5813318     4220.0   \n",
       "69                    0.0                 47,69  376,9130823     8189.0   \n",
       "73                    0.0                 77,37  775,6637681    14136.0   \n",
       "76                    0.0                 57,46  595,2098762     5604.0   \n",
       "80                    0.0                100,00  31,97330129    99585.0   \n",
       "91                    0.0                100,00  100,1544185    17022.0   \n",
       "93                    0.0                 84,52  603,0429843     7124.0   \n",
       "95                    0.0                 97,38  50,62848846     3060.0   \n",
       "98                    0.0                 98,52  170,5806275     5743.0   \n",
       "102                   0.0                 77,86  476,5435495     6204.0   \n",
       "108                   0.0                 96,60   47,5020214     2400.0   \n",
       "111                   0.0                 82,26  184,1012945     5028.0   \n",
       "115                   0.0                 89,07  228,3264688    10782.0   \n",
       "117                   0.0                 87,96  371,9847051    16865.0   \n",
       "119                   0.0                 88,84  192,2595816     6137.0   \n",
       "121                   0.0                100,00  25,97862211     5084.0   \n",
       "\n",
       "     Domicílios  Latitude  Longitude  \n",
       "5        8012.0 -7.741342 -36.065357  \n",
       "7        5434.0 -7.430425 -34.910610  \n",
       "10       3686.0 -6.785960 -38.083135  \n",
       "14       1565.0 -6.968024 -35.699478  \n",
       "18        673.0 -7.073396 -36.727400  \n",
       "22       5017.0 -7.523086 -35.998852  \n",
       "24       5367.0 -7.752809 -36.317100  \n",
       "26        636.0 -6.696759 -35.536963  \n",
       "29       2207.0 -7.420246 -38.215678  \n",
       "33       5004.0 -7.314333 -38.514668  \n",
       "36       3911.0 -6.806672 -35.599019  \n",
       "42       5222.0 -6.925919 -38.674216  \n",
       "44       6345.0 -6.642510 -35.792930  \n",
       "46        488.0 -6.614687 -35.468143  \n",
       "50       1951.0 -7.885031 -36.824191  \n",
       "54       5421.0 -7.039523 -38.343228  \n",
       "58       1042.0 -7.419965 -36.020713  \n",
       "61       2096.0 -7.260036 -34.905352  \n",
       "63       5930.0 -7.017590 -37.946506  \n",
       "66       1300.0 -6.864797 -36.352599  \n",
       "69       2421.0 -6.912922 -35.250219  \n",
       "73       4191.0 -7.288970 -37.088076  \n",
       "76       1633.0 -6.603224 -35.627146  \n",
       "80      27934.0 -7.357747 -35.783974  \n",
       "91       5150.0 -6.828301 -35.244782  \n",
       "93       1966.0 -6.612305 -35.291902  \n",
       "95        799.0 -7.121598 -34.882028  \n",
       "98       1492.0 -6.991929 -36.713766  \n",
       "102      1730.0 -6.680882 -35.363768  \n",
       "108       699.0 -7.258294 -37.426977  \n",
       "111      1513.0 -7.706091 -38.153125  \n",
       "115      2801.0 -7.181276 -35.733071  \n",
       "117      4853.0 -7.121955 -35.771343  \n",
       "119      1730.0 -7.264629 -37.338336  \n",
       "121      1395.0 -7.088656 -35.957737  "
      ]
     },
     "metadata": {},
     "output_type": "display_data"
    }
   ],
   "source": [
    "import pandas as pd\n",
    "from coordenadas import obter_coordenadas, uf\n",
    "import sqlite3\n",
    "from sqlalchemy import create_engine\n",
    "\n",
    "\n",
    "df_municipios = pd.read_csv('parahybaCities.csv', engine = 'python')\n",
    "\n",
    "df_municipios = df_municipios.drop(columns=['Tecnologia', 'Tipo de compromisso', 'Compromisso', 'Origem compromisso', 'Operadora com compromisso', 'Status compromisso',\n",
    "                               'Prazo compromisso', 'Operadora'], axis= 1)\n",
    "\n",
    "df_municipios = df_municipios.drop_duplicates()\n",
    "\n",
    "df_municipios['Latitude'] = ''\n",
    "df_municipios['Longitude'] = ''\n",
    "\n",
    "\n",
    "for i, municipio in enumerate (df_municipios['Município']):\n",
    "    lat, lon = obter_coordenadas(municipio, uf)\n",
    "    df_municipios.at[i, 'Latitude'] = lat\n",
    "    df_municipios.at[i, 'Longitude'] = lon\n",
    "\n",
    "print(df_municipios['% moradores cobertos'].unique())\n",
    "\n",
    "df_municipios['% moradores cobertos'] = pd.to_numeric(df_municipios['% moradores cobertos'], errors='coerce')\n",
    "df_municipios['% moradores cobertos'].fillna(0, inplace=True)\n",
    "df_municipios['Longitude'] = pd.to_numeric(df_municipios['Longitude'], errors='coerce')\n",
    "df_municipios['Latitude'] = pd.to_numeric(df_municipios['Latitude'], errors='coerce')\n",
    "\n",
    "\n",
    "engine = create_engine('sqlite:///municipios_PB.db')\n",
    "conn = engine.connect()\n",
    "\n",
    "df_municipios.to_sql('municipios', conn, if_exists='replace', index=False)\n",
    "conn.close()\n",
    "\n",
    "\n",
    "\n",
    "df_municipios = df_municipios.dropna(how='any')\n",
    "\n",
    "display(df_municipios)"
   ]
  },
  {
   "cell_type": "code",
   "execution_count": 8,
   "metadata": {},
   "outputs": [
    {
     "data": {
      "application/vnd.plotly.v1+json": {
       "config": {
        "plotlyServerURL": "https://plot.ly"
       },
       "data": [
        {
         "coloraxis": "coloraxis",
         "hovertemplate": "% moradores cobertos=%{z}<br>Latitude=%{lat}<br>Longitude=%{lon}<extra></extra>",
         "lat": [
          -7.7413424,
          -7.4304246,
          -6.7859598,
          -6.9680243,
          -7.073396,
          -7.5230865,
          -7.7528088,
          -6.6967586,
          -7.4202462,
          -7.3143332,
          -6.8066718,
          -6.9259193,
          -6.6425101,
          -6.6146866,
          -7.885031,
          -7.0395225,
          -7.4199652,
          -7.2600359,
          -7.0175897,
          -6.8647974,
          -6.912922,
          -7.2889695,
          -6.6032239,
          -7.3577473,
          -6.8283007,
          -6.6123046,
          -7.1215981,
          -6.991929,
          -6.6808819,
          -7.2582944,
          -7.7060905,
          -7.1812758,
          -7.1219554,
          -7.264629,
          -7.088656
         ],
         "lon": [
          -36.0653565,
          -34.9106103,
          -38.0831353,
          -35.6994783,
          -36.7274003,
          -35.9988518,
          -36.3170996,
          -35.5369626,
          -38.2156782,
          -38.5146677,
          -35.5990191,
          -38.6742159,
          -35.7929304,
          -35.4681434,
          -36.824191,
          -38.3432281,
          -36.0207132,
          -34.9053524,
          -37.9465062,
          -36.3525993,
          -35.250219,
          -37.0880761,
          -35.627146,
          -35.7839735,
          -35.244782,
          -35.2919016,
          -34.882028,
          -36.7137661,
          -35.363768423421334,
          -37.4269768,
          -38.1531251,
          -35.7330712,
          -35.7713426,
          -37.3383363,
          -35.9577367
         ],
         "name": "",
         "subplot": "mapbox",
         "type": "densitymapbox",
         "z": [
          0,
          0,
          0,
          0,
          0,
          0,
          0,
          0,
          0,
          0,
          0,
          0,
          0,
          0,
          0,
          0,
          0,
          0,
          0,
          0,
          0,
          0,
          0,
          0,
          0,
          0,
          0,
          0,
          0,
          0,
          0,
          0,
          0,
          0,
          0
         ]
        }
       ],
       "layout": {
        "coloraxis": {
         "colorbar": {
          "title": {
           "text": "% moradores cobertos"
          }
         },
         "colorscale": [
          [
           0,
           "#0d0887"
          ],
          [
           0.1111111111111111,
           "#46039f"
          ],
          [
           0.2222222222222222,
           "#7201a8"
          ],
          [
           0.3333333333333333,
           "#9c179e"
          ],
          [
           0.4444444444444444,
           "#bd3786"
          ],
          [
           0.5555555555555556,
           "#d8576b"
          ],
          [
           0.6666666666666666,
           "#ed7953"
          ],
          [
           0.7777777777777778,
           "#fb9f3a"
          ],
          [
           0.8888888888888888,
           "#fdca26"
          ],
          [
           1,
           "#f0f921"
          ]
         ]
        },
        "legend": {
         "tracegroupgap": 0
        },
        "mapbox": {
         "center": {
          "lat": -7.120053942857143,
          "lon": -36.3892111149549
         },
         "domain": {
          "x": [
           0,
           1
          ],
          "y": [
           0,
           1
          ]
         },
         "style": "open-street-map",
         "zoom": 8
        },
        "margin": {
         "t": 60
        },
        "template": {
         "data": {
          "bar": [
           {
            "error_x": {
             "color": "#2a3f5f"
            },
            "error_y": {
             "color": "#2a3f5f"
            },
            "marker": {
             "line": {
              "color": "#E5ECF6",
              "width": 0.5
             },
             "pattern": {
              "fillmode": "overlay",
              "size": 10,
              "solidity": 0.2
             }
            },
            "type": "bar"
           }
          ],
          "barpolar": [
           {
            "marker": {
             "line": {
              "color": "#E5ECF6",
              "width": 0.5
             },
             "pattern": {
              "fillmode": "overlay",
              "size": 10,
              "solidity": 0.2
             }
            },
            "type": "barpolar"
           }
          ],
          "carpet": [
           {
            "aaxis": {
             "endlinecolor": "#2a3f5f",
             "gridcolor": "white",
             "linecolor": "white",
             "minorgridcolor": "white",
             "startlinecolor": "#2a3f5f"
            },
            "baxis": {
             "endlinecolor": "#2a3f5f",
             "gridcolor": "white",
             "linecolor": "white",
             "minorgridcolor": "white",
             "startlinecolor": "#2a3f5f"
            },
            "type": "carpet"
           }
          ],
          "choropleth": [
           {
            "colorbar": {
             "outlinewidth": 0,
             "ticks": ""
            },
            "type": "choropleth"
           }
          ],
          "contour": [
           {
            "colorbar": {
             "outlinewidth": 0,
             "ticks": ""
            },
            "colorscale": [
             [
              0,
              "#0d0887"
             ],
             [
              0.1111111111111111,
              "#46039f"
             ],
             [
              0.2222222222222222,
              "#7201a8"
             ],
             [
              0.3333333333333333,
              "#9c179e"
             ],
             [
              0.4444444444444444,
              "#bd3786"
             ],
             [
              0.5555555555555556,
              "#d8576b"
             ],
             [
              0.6666666666666666,
              "#ed7953"
             ],
             [
              0.7777777777777778,
              "#fb9f3a"
             ],
             [
              0.8888888888888888,
              "#fdca26"
             ],
             [
              1,
              "#f0f921"
             ]
            ],
            "type": "contour"
           }
          ],
          "contourcarpet": [
           {
            "colorbar": {
             "outlinewidth": 0,
             "ticks": ""
            },
            "type": "contourcarpet"
           }
          ],
          "heatmap": [
           {
            "colorbar": {
             "outlinewidth": 0,
             "ticks": ""
            },
            "colorscale": [
             [
              0,
              "#0d0887"
             ],
             [
              0.1111111111111111,
              "#46039f"
             ],
             [
              0.2222222222222222,
              "#7201a8"
             ],
             [
              0.3333333333333333,
              "#9c179e"
             ],
             [
              0.4444444444444444,
              "#bd3786"
             ],
             [
              0.5555555555555556,
              "#d8576b"
             ],
             [
              0.6666666666666666,
              "#ed7953"
             ],
             [
              0.7777777777777778,
              "#fb9f3a"
             ],
             [
              0.8888888888888888,
              "#fdca26"
             ],
             [
              1,
              "#f0f921"
             ]
            ],
            "type": "heatmap"
           }
          ],
          "heatmapgl": [
           {
            "colorbar": {
             "outlinewidth": 0,
             "ticks": ""
            },
            "colorscale": [
             [
              0,
              "#0d0887"
             ],
             [
              0.1111111111111111,
              "#46039f"
             ],
             [
              0.2222222222222222,
              "#7201a8"
             ],
             [
              0.3333333333333333,
              "#9c179e"
             ],
             [
              0.4444444444444444,
              "#bd3786"
             ],
             [
              0.5555555555555556,
              "#d8576b"
             ],
             [
              0.6666666666666666,
              "#ed7953"
             ],
             [
              0.7777777777777778,
              "#fb9f3a"
             ],
             [
              0.8888888888888888,
              "#fdca26"
             ],
             [
              1,
              "#f0f921"
             ]
            ],
            "type": "heatmapgl"
           }
          ],
          "histogram": [
           {
            "marker": {
             "pattern": {
              "fillmode": "overlay",
              "size": 10,
              "solidity": 0.2
             }
            },
            "type": "histogram"
           }
          ],
          "histogram2d": [
           {
            "colorbar": {
             "outlinewidth": 0,
             "ticks": ""
            },
            "colorscale": [
             [
              0,
              "#0d0887"
             ],
             [
              0.1111111111111111,
              "#46039f"
             ],
             [
              0.2222222222222222,
              "#7201a8"
             ],
             [
              0.3333333333333333,
              "#9c179e"
             ],
             [
              0.4444444444444444,
              "#bd3786"
             ],
             [
              0.5555555555555556,
              "#d8576b"
             ],
             [
              0.6666666666666666,
              "#ed7953"
             ],
             [
              0.7777777777777778,
              "#fb9f3a"
             ],
             [
              0.8888888888888888,
              "#fdca26"
             ],
             [
              1,
              "#f0f921"
             ]
            ],
            "type": "histogram2d"
           }
          ],
          "histogram2dcontour": [
           {
            "colorbar": {
             "outlinewidth": 0,
             "ticks": ""
            },
            "colorscale": [
             [
              0,
              "#0d0887"
             ],
             [
              0.1111111111111111,
              "#46039f"
             ],
             [
              0.2222222222222222,
              "#7201a8"
             ],
             [
              0.3333333333333333,
              "#9c179e"
             ],
             [
              0.4444444444444444,
              "#bd3786"
             ],
             [
              0.5555555555555556,
              "#d8576b"
             ],
             [
              0.6666666666666666,
              "#ed7953"
             ],
             [
              0.7777777777777778,
              "#fb9f3a"
             ],
             [
              0.8888888888888888,
              "#fdca26"
             ],
             [
              1,
              "#f0f921"
             ]
            ],
            "type": "histogram2dcontour"
           }
          ],
          "mesh3d": [
           {
            "colorbar": {
             "outlinewidth": 0,
             "ticks": ""
            },
            "type": "mesh3d"
           }
          ],
          "parcoords": [
           {
            "line": {
             "colorbar": {
              "outlinewidth": 0,
              "ticks": ""
             }
            },
            "type": "parcoords"
           }
          ],
          "pie": [
           {
            "automargin": true,
            "type": "pie"
           }
          ],
          "scatter": [
           {
            "fillpattern": {
             "fillmode": "overlay",
             "size": 10,
             "solidity": 0.2
            },
            "type": "scatter"
           }
          ],
          "scatter3d": [
           {
            "line": {
             "colorbar": {
              "outlinewidth": 0,
              "ticks": ""
             }
            },
            "marker": {
             "colorbar": {
              "outlinewidth": 0,
              "ticks": ""
             }
            },
            "type": "scatter3d"
           }
          ],
          "scattercarpet": [
           {
            "marker": {
             "colorbar": {
              "outlinewidth": 0,
              "ticks": ""
             }
            },
            "type": "scattercarpet"
           }
          ],
          "scattergeo": [
           {
            "marker": {
             "colorbar": {
              "outlinewidth": 0,
              "ticks": ""
             }
            },
            "type": "scattergeo"
           }
          ],
          "scattergl": [
           {
            "marker": {
             "colorbar": {
              "outlinewidth": 0,
              "ticks": ""
             }
            },
            "type": "scattergl"
           }
          ],
          "scattermapbox": [
           {
            "marker": {
             "colorbar": {
              "outlinewidth": 0,
              "ticks": ""
             }
            },
            "type": "scattermapbox"
           }
          ],
          "scatterpolar": [
           {
            "marker": {
             "colorbar": {
              "outlinewidth": 0,
              "ticks": ""
             }
            },
            "type": "scatterpolar"
           }
          ],
          "scatterpolargl": [
           {
            "marker": {
             "colorbar": {
              "outlinewidth": 0,
              "ticks": ""
             }
            },
            "type": "scatterpolargl"
           }
          ],
          "scatterternary": [
           {
            "marker": {
             "colorbar": {
              "outlinewidth": 0,
              "ticks": ""
             }
            },
            "type": "scatterternary"
           }
          ],
          "surface": [
           {
            "colorbar": {
             "outlinewidth": 0,
             "ticks": ""
            },
            "colorscale": [
             [
              0,
              "#0d0887"
             ],
             [
              0.1111111111111111,
              "#46039f"
             ],
             [
              0.2222222222222222,
              "#7201a8"
             ],
             [
              0.3333333333333333,
              "#9c179e"
             ],
             [
              0.4444444444444444,
              "#bd3786"
             ],
             [
              0.5555555555555556,
              "#d8576b"
             ],
             [
              0.6666666666666666,
              "#ed7953"
             ],
             [
              0.7777777777777778,
              "#fb9f3a"
             ],
             [
              0.8888888888888888,
              "#fdca26"
             ],
             [
              1,
              "#f0f921"
             ]
            ],
            "type": "surface"
           }
          ],
          "table": [
           {
            "cells": {
             "fill": {
              "color": "#EBF0F8"
             },
             "line": {
              "color": "white"
             }
            },
            "header": {
             "fill": {
              "color": "#C8D4E3"
             },
             "line": {
              "color": "white"
             }
            },
            "type": "table"
           }
          ]
         },
         "layout": {
          "annotationdefaults": {
           "arrowcolor": "#2a3f5f",
           "arrowhead": 0,
           "arrowwidth": 1
          },
          "autotypenumbers": "strict",
          "coloraxis": {
           "colorbar": {
            "outlinewidth": 0,
            "ticks": ""
           }
          },
          "colorscale": {
           "diverging": [
            [
             0,
             "#8e0152"
            ],
            [
             0.1,
             "#c51b7d"
            ],
            [
             0.2,
             "#de77ae"
            ],
            [
             0.3,
             "#f1b6da"
            ],
            [
             0.4,
             "#fde0ef"
            ],
            [
             0.5,
             "#f7f7f7"
            ],
            [
             0.6,
             "#e6f5d0"
            ],
            [
             0.7,
             "#b8e186"
            ],
            [
             0.8,
             "#7fbc41"
            ],
            [
             0.9,
             "#4d9221"
            ],
            [
             1,
             "#276419"
            ]
           ],
           "sequential": [
            [
             0,
             "#0d0887"
            ],
            [
             0.1111111111111111,
             "#46039f"
            ],
            [
             0.2222222222222222,
             "#7201a8"
            ],
            [
             0.3333333333333333,
             "#9c179e"
            ],
            [
             0.4444444444444444,
             "#bd3786"
            ],
            [
             0.5555555555555556,
             "#d8576b"
            ],
            [
             0.6666666666666666,
             "#ed7953"
            ],
            [
             0.7777777777777778,
             "#fb9f3a"
            ],
            [
             0.8888888888888888,
             "#fdca26"
            ],
            [
             1,
             "#f0f921"
            ]
           ],
           "sequentialminus": [
            [
             0,
             "#0d0887"
            ],
            [
             0.1111111111111111,
             "#46039f"
            ],
            [
             0.2222222222222222,
             "#7201a8"
            ],
            [
             0.3333333333333333,
             "#9c179e"
            ],
            [
             0.4444444444444444,
             "#bd3786"
            ],
            [
             0.5555555555555556,
             "#d8576b"
            ],
            [
             0.6666666666666666,
             "#ed7953"
            ],
            [
             0.7777777777777778,
             "#fb9f3a"
            ],
            [
             0.8888888888888888,
             "#fdca26"
            ],
            [
             1,
             "#f0f921"
            ]
           ]
          },
          "colorway": [
           "#636efa",
           "#EF553B",
           "#00cc96",
           "#ab63fa",
           "#FFA15A",
           "#19d3f3",
           "#FF6692",
           "#B6E880",
           "#FF97FF",
           "#FECB52"
          ],
          "font": {
           "color": "#2a3f5f"
          },
          "geo": {
           "bgcolor": "white",
           "lakecolor": "white",
           "landcolor": "#E5ECF6",
           "showlakes": true,
           "showland": true,
           "subunitcolor": "white"
          },
          "hoverlabel": {
           "align": "left"
          },
          "hovermode": "closest",
          "mapbox": {
           "style": "light"
          },
          "paper_bgcolor": "white",
          "plot_bgcolor": "#E5ECF6",
          "polar": {
           "angularaxis": {
            "gridcolor": "white",
            "linecolor": "white",
            "ticks": ""
           },
           "bgcolor": "#E5ECF6",
           "radialaxis": {
            "gridcolor": "white",
            "linecolor": "white",
            "ticks": ""
           }
          },
          "scene": {
           "xaxis": {
            "backgroundcolor": "#E5ECF6",
            "gridcolor": "white",
            "gridwidth": 2,
            "linecolor": "white",
            "showbackground": true,
            "ticks": "",
            "zerolinecolor": "white"
           },
           "yaxis": {
            "backgroundcolor": "#E5ECF6",
            "gridcolor": "white",
            "gridwidth": 2,
            "linecolor": "white",
            "showbackground": true,
            "ticks": "",
            "zerolinecolor": "white"
           },
           "zaxis": {
            "backgroundcolor": "#E5ECF6",
            "gridcolor": "white",
            "gridwidth": 2,
            "linecolor": "white",
            "showbackground": true,
            "ticks": "",
            "zerolinecolor": "white"
           }
          },
          "shapedefaults": {
           "line": {
            "color": "#2a3f5f"
           }
          },
          "ternary": {
           "aaxis": {
            "gridcolor": "white",
            "linecolor": "white",
            "ticks": ""
           },
           "baxis": {
            "gridcolor": "white",
            "linecolor": "white",
            "ticks": ""
           },
           "bgcolor": "#E5ECF6",
           "caxis": {
            "gridcolor": "white",
            "linecolor": "white",
            "ticks": ""
           }
          },
          "title": {
           "x": 0.05
          },
          "xaxis": {
           "automargin": true,
           "gridcolor": "white",
           "linecolor": "white",
           "ticks": "",
           "title": {
            "standoff": 15
           },
           "zerolinecolor": "white",
           "zerolinewidth": 2
          },
          "yaxis": {
           "automargin": true,
           "gridcolor": "white",
           "linecolor": "white",
           "ticks": "",
           "title": {
            "standoff": 15
           },
           "zerolinecolor": "white",
           "zerolinewidth": 2
          }
         }
        }
       }
      }
     },
     "metadata": {},
     "output_type": "display_data"
    }
   ],
   "source": [
    "import plotly.express as px\n",
    "\n",
    "\n",
    "grafico = px.density_mapbox(df_municipios, lon=\"Longitude\", lat=\"Latitude\", z=\"% moradores cobertos\", mapbox_style=\"open-street-map\")\n",
    "\n",
    "grafico.show()"
   ]
  }
 ],
 "metadata": {
  "kernelspec": {
   "display_name": "venv",
   "language": "python",
   "name": "python3"
  },
  "language_info": {
   "codemirror_mode": {
    "name": "ipython",
    "version": 3
   },
   "file_extension": ".py",
   "mimetype": "text/x-python",
   "name": "python",
   "nbconvert_exporter": "python",
   "pygments_lexer": "ipython3",
   "version": "3.12.4"
  }
 },
 "nbformat": 4,
 "nbformat_minor": 2
}
